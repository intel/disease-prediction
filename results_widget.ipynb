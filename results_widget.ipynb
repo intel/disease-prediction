{
 "cells": [
  {
   "cell_type": "code",
   "execution_count": null,
   "id": "6ed88062",
   "metadata": {},
   "outputs": [],
   "source": [
    "import ipywidgets as widgets\n",
    "from IPython.display import display\n",
    "\n",
    "import pandas as pd\n",
    "from glob import glob\n",
    "import re\n",
    "import os\n",
    "\n",
    "def get_images_from_id(pid, data_dir=r'./data/CDD-CESM/Low energy images of CDD-CESM/', prefix='P'):\n",
    "    image_glob = prefix +  \"_\".join(re.findall(r'(\\d+)([L,R]+)', pid)[0]) + \"*.jpg\"\n",
    "    image_glob = os.path.join(data_dir, image_glob)\n",
    "    return glob(image_glob)\n",
    "\n",
    "#Extract\n",
    "all_results = pd.read_csv('output/all_results.csv', index_col=1)\n",
    "ensemble_predictions = pd.read_csv('output/ensemble_predictions.csv')\n",
    "annotation = pd.read_csv('data/annotation/annotation.csv', index_col=-1)[['symptoms']]\n",
    "\n",
    "#Transform\n",
    "all_results = all_results.merge(annotation, left_index=True, right_index=True, how='left')\n",
    "all_results['images'] = [get_images_from_id(pid) for pid in all_results.index]\n",
    "\n",
    "#Load\n",
    "DATA_DF = all_results.copy()\n",
    "\n",
    "\n",
    "pid_select = widgets.SelectMultiple(\n",
    "    options=DATA_DF.index,\n",
    "    description='Patient ID:',\n",
    "    disabled=False,\n",
    ")\n",
    "\n",
    "\n",
    "def create_text_area(pids):\n",
    "    return [    widgets.Textarea(\n",
    "            value=DATA_DF.loc[pid]['symptoms'],\n",
    "            placeholder='Type something',\n",
    "            description='Symptoms:',\n",
    "            disabled=False\n",
    "        ) for pid in pids]\n",
    "\n",
    "\n",
    "output = widgets.Accordion(children=[])\n",
    "\n",
    "def update_display(b):\n",
    "    pids = list(b.owner.value)\n",
    "    text = DATA_DF.loc[pids]['symptoms']\n",
    "    output.children = create_text_area(pids)\n",
    "    for i, pid in enumerate(pids):\n",
    "        output.set_title(i, pid)\n",
    "\n",
    "display(pid_select, output)\n",
    "\n",
    "pid_select.observe(update_display, names=['value'], type='change')"
   ]
  },
  {
   "cell_type": "code",
   "execution_count": null,
   "id": "10d28500",
   "metadata": {},
   "outputs": [],
   "source": []
  }
 ],
 "metadata": {
  "kernelspec": {
   "display_name": "Python 3 (ipykernel)",
   "language": "python",
   "name": "python3"
  },
  "language_info": {
   "codemirror_mode": {
    "name": "ipython",
    "version": 3
   },
   "file_extension": ".py",
   "mimetype": "text/x-python",
   "name": "python",
   "nbconvert_exporter": "python",
   "pygments_lexer": "ipython3",
   "version": "3.9.16"
  }
 },
 "nbformat": 4,
 "nbformat_minor": 5
}
