{
 "cells": [
  {
   "cell_type": "markdown",
   "id": "b9ea5f1f-3f56-4d50-af00-df54361a5196",
   "metadata": {},
   "source": [
    "# Multi-Modal Disease Prediction\n",
    "Many reference kits  in the bio-medical domain focus on a single-model and single-modal solution. Exclusive reliance on a single method has some limitations, such as impairing the design of robust and accurate classifiers for complex datasets. To overcome these limitations, we provide this multi-modal disease prediction reference kit.\n",
    "\n",
    "Multi-modal disease prediction is an Intel  optimized, end-to-end reference kit for fine-tuning and inference. This reference kit implements a multi-model and multi-modal solution that will help to predict diagnosis by using categorized contrast enhanced mammography data and radiologists’ notes.\n",
    " \n",
    "\n",
    "## **Table of Contents**\n",
    "- [Overview](#overview)\n",
    "- [Validated Hardware Details](#validated-hardware-details)\n",
    "- [Software Requirements](#software-requirements)\n",
    "- [How it Works?](#how-it-works)\n",
    "    - [Architecture](#architecture)\n",
    "- [Get Started](#get-started)\n",
    "- [Run Using Jupyter Lab](#run-using-jupyter-lab) \n",
    "- [Expected Output](#expected-output)\n",
    "- [Result Visualization](#result-visualization)\n",
    "\n",
    "<a id=\"overview\"></a> \n",
    "## Overview\n",
    "This reference kit demonstrates one possible reference implementation of a multi-model and multi-modal solution. While the vision workflow aims to train an image classifier that takes in contrast-enhanced spectral mammography (CESM) images, the natural language processing (NLP) workflow aims to train a document classifier that takes in annotation notes about a patient’s symptoms. Each pipeline creates a prediction for the diagnosis of breast cancer. In the end, weighted ensemble method is used to create a final prediction.\n",
    "\n",
    "The goal is to minimize an expert’s involvement in categorizing samples as normal, benign, or malignant, by developing and optimizing a decision support system that automatically categorizes the CESM with the help of radiologist notes.\n",
    "\n",
    "<a id=\"validated-hardware-details\"></a> \n",
    "## Validated Hardware Details\n",
    "There are workflow-specific hardware and software setup requirements depending on how the workflow is run. Bare metal development system and Docker image running locally have the same system requirements. \n",
    "\n",
    "| Recommended Hardware         | Precision  |\n",
    "| ---------------------------- | ---------- |\n",
    "| Intel® 4th Gen Xeon® Scalable Performance processors| FP32, BF16 |\n",
    "| Intel® 1st, 2nd, 3rd, and 4th Gen Xeon® Scalable Performance processors| FP32 |\n",
    "\n",
    "To execute the reference solution presented here, please use CPU for fine tuning. \n",
    "\n",
    "<a id=\"software-requirements\"></a> \n",
    "## Software Requirements \n",
    "Linux OS (Ubuntu 22.04) is used in this reference solution. Make sure the following dependencies are installed, or if you followed the README file instructions for this notebook run the following cell.\n",
    "\n",
    "1. `sudo apt update`\n",
    "2. `sudo apt install -y build-essential gcc git libgl1-mesa-glx libglib2.0-0 python3-dev`\n",
    "3. Python3.9, Pip/Conda and python3.9-venv\n"
   ]
  },
  {
   "cell_type": "code",
   "execution_count": null,
   "id": "6ec95594-e5bf-4e07-83bd-213f681d0fc8",
   "metadata": {
    "scrolled": true
   },
   "outputs": [],
   "source": [
    "import getpass\n",
    "import os\n",
    "\n",
    "password = getpass.getpass('Enter user password:\\n')\n",
    "command = 'sudo -S apt-get update'\n",
    "os.popen(command, 'w').write(password+'\\n')\n",
    "command = 'sudo -S apt-get install -y build-essential gcc git libgl1-mesa-glx libglib2.0-0 python3-dev'\n",
    "os.popen(command, 'w').write(password+'\\n')"
   ]
  },
  {
   "attachments": {},
   "cell_type": "markdown",
   "id": "9e233e40-cb7f-4200-997c-ef659f679972",
   "metadata": {},
   "source": [
    "<a id=\"how-it-works\"></a> \n",
    "## How It Works?\n",
    "\n",
    "<a id=\"architecture\"></a> \n",
    "### Architecture\n",
    "![Use_case_flow](assets/e2e_flow_HLS_Disease_Prediction.png)\n",
    "*Figure-1: Architecture of the reference kit* \n",
    "\n",
    "- Uses real-world CESM breast cancer datasets with “multi-modal and multi-model” approaches.\n",
    "- Uses two domain toolkits (Intel® Transfer Learning Toolkit and Intel® Extension for Transformers), Intel® Neural Compressor, other libs/tools, Hugging Face model repo and APIs for [ResNet-50](https://huggingface.co/microsoft/resnet-50) and [ClinicalBert](https://huggingface.co/emilyalsentzer/Bio_ClinicalBERT) models. \n",
    "- The NLP reference Implementation component uses [HF Fine-tuning and Inference Optimization workload](https://github.com/intel/intel-extension-for-transformers/tree/main/workflows/hf_finetuning_and_inference_nlp), which is optimized for document classification. This NLP workload employs Intel® Neural Compressor and other libraries/tools, and utilizes Hugging Face model repository and APIs for ClinicalBert models. The ClinicalBert model, which is pretrained with a Masked-Language-Modeling task on a large corpus of English language from MIMIC-III data, is fine-tuned with the CESM breast cancer annotation dataset to generate a new BERT model.\n",
    "- The Vision reference Implementation component uses [TLT-based vision workload](https://github.com/IntelAI/transfer-learning), which is optimized for image fine-tuning and inference. This workload utilizes Intel® Transfer Learning Tool and tfhub's ResNet-50 model to fine-tune a new convolutional neural network model with subtracted CESM image dataset. The images are preprocessed by using domain expert-defined segmented regions to reduce redundancies during training.\n",
    "- Predicts diagnosis by using categorized contrast enhanced mammography images and radiologists’ notes separately. Weighted ensemble method is applied to results of sub-models to create the final prediction.\n",
    "\n",
    "<a id=\"get-started\"></a> \n",
    "## Get Started\n",
    "\n",
    "### Download the Reference Kit Repository\n",
    "If previously not done, from terminal create a working directory for the reference kit, clone the [Breast Cancer Prediction Reference Kit](https://github.com/intel/disease-prediction) repository into your working directory, launch Jupyter notebook and follow the README instructions to use the notebook before going any further.\n",
    "```\n",
    "git clone https://github.com/intel/disease-prediction.git brca_multimodal\n",
    "cd brca_multimodal\n",
    "jupyter notebook\n",
    "```"
   ]
  },
  {
   "attachments": {},
   "cell_type": "markdown",
   "id": "7d9a697e-db85-4995-8c45-52dd94d9ce46",
   "metadata": {},
   "source": [
    "### DataSet\n",
    "The dataset is a collection of 2,006 high-resolution contrast-enhanced spectral mammography (CESM) images (1003 low energy images and 1003 subtracted CESM images) with annotations of 326 female patients. See Figure-1. Each patient has 8 images, 4 representing each side with two views (Top Down looking and Angled Top View) consisting of low energy and subtracted CESM images. Medical reports, written by radiologists, are provided for each case along with manual segmentation annotation for the abnormal findings in each image. As a preprocessing step, we segment the images based on the manual segmentation to get the region of interest and group annotation notes based on the subject and breast side. \n",
    "\n",
    "  ![CESM Images](assets/cesm_and_annotation.png)\n",
    "\n",
    "*Figure-2: Samples of low energy and subtracted CESM images and Medical reports, written by radiologists from the Categorized contrast enhanced mammography dataset. [(Khaled, 2022)](https://www.nature.com/articles/s41597-022-01238-0)*\n",
    "\n",
    "For more details of the dataset, visit the wikipage of the [CESM](https://wiki.cancerimagingarchive.net/pages/viewpage.action?pageId=109379611#109379611bcab02c187174a288dbcbf95d26179e8) and read [Categorized contrast enhanced mammography dataset for diagnostic and artificial intelligence research](https://www.nature.com/articles/s41597-022-01238-0).\n",
    "\n",
    "#### Setting Up the Data\n",
    "Use the link below to download the image datasets.\n",
    "\n",
    "- [High-resolution Contrast-enhanced spectral mammography (CESM) images](https://faspex.cancerimagingarchive.net/aspera/faspex/external_deliveries/260?passcode=5335d2514638afdaf03237780dcdfec29edf4238#)\n",
    "\n",
    "Copy the downloaded folders into the *data/CDD-CESM* directory.\n",
    "\n",
    "**Note:** See this dataset's applicable license for terms and conditions. Intel Corporation does not own the rights to this dataset and does not confer any rights to it."
   ]
  },
  {
   "cell_type": "markdown",
   "id": "859bce34-5cf5-4df7-8b66-48dc56b47473",
   "metadata": {},
   "source": [
    "<a id=\"run-using-jupyter-lab\"></a> \n",
    "# Run Using Jupyter Lab"
   ]
  },
  {
   "cell_type": "markdown",
   "id": "c8e5c0fc-f0eb-4a16-ba25-c500ecef10c8",
   "metadata": {},
   "source": [
    "### 1. Install Required Workflows and Preprocess the Data\n",
    "\n",
    "> Make sure [High-resolution Contrast-enhanced spectral mammography (CESM) images](https://faspex.cancerimagingarchive.net/aspera/faspex/external_deliveries/260?passcode=5335d2514638afdaf03237780dcdfec29edf4238#) are downloaded and copied into the *data* directory.\n",
    "\n",
    "This step involves the installation of the following components:\n",
    "\n",
    "- HF Fine-tune & Inference Optimization workflow\n",
    "- Transfer Learning based on TLT workflow\n",
    "- Model Zoo for Intel®\n",
    "\n",
    "Upon successful installation, the data is preprocessed.  \n"
   ]
  },
  {
   "cell_type": "code",
   "execution_count": 20,
   "id": "83e812ce-cdd2-4505-93ad-e6bc88ceb547",
   "metadata": {
    "scrolled": true
   },
   "outputs": [
    {
     "name": "stdout",
     "output_type": "stream",
     "text": [
      "Requirement already satisfied: docx2txt in ./hls_env/lib/python3.9/site-packages (0.8)\n",
      "Requirement already satisfied: openpyxl in ./hls_env/lib/python3.9/site-packages (3.1.2)\n",
      "Requirement already satisfied: et-xmlfile in ./hls_env/lib/python3.9/site-packages (from openpyxl) (1.1.0)\n",
      "\u001b[33mWARNING: You are using pip version 22.0.4; however, version 23.1.2 is available.\n",
      "You should consider upgrading via the '/localdisk/aagalleg/demo_bc_test/disease-prediction/hls_env/bin/python -m pip install --upgrade pip' command.\u001b[0m\u001b[33m\n",
      "\u001b[0mRequirement already satisfied: intel-tensorflow==2.11.0 in ./hls_env/lib/python3.9/site-packages (from -r /localdisk/aagalleg/demo_bc_test/disease-prediction/vision_wf/workflows/disease_prediction/requirements.txt (line 1)) (2.11.0)\n",
      "Collecting neural-compressor==2.0\n",
      "  Using cached neural_compressor-2.0-py3-none-any.whl (1.1 MB)\n",
      "Requirement already satisfied: numpy==1.22.0 in ./hls_env/lib/python3.9/site-packages (from -r /localdisk/aagalleg/demo_bc_test/disease-prediction/vision_wf/workflows/disease_prediction/requirements.txt (line 3)) (1.22.0)\n",
      "Requirement already satisfied: pillow in ./hls_env/lib/python3.9/site-packages (from -r /localdisk/aagalleg/demo_bc_test/disease-prediction/vision_wf/workflows/disease_prediction/requirements.txt (line 4)) (9.5.0)\n",
      "Requirement already satisfied: pyyaml in ./hls_env/lib/python3.9/site-packages (from -r /localdisk/aagalleg/demo_bc_test/disease-prediction/vision_wf/workflows/disease_prediction/requirements.txt (line 5)) (6.0)\n",
      "Requirement already satisfied: tensorflow-hub==0.12.0 in ./hls_env/lib/python3.9/site-packages (from -r /localdisk/aagalleg/demo_bc_test/disease-prediction/vision_wf/workflows/disease_prediction/requirements.txt (line 6)) (0.12.0)\n",
      "Requirement already satisfied: gast<=0.4.0,>=0.2.1 in ./hls_env/lib/python3.9/site-packages (from intel-tensorflow==2.11.0->-r /localdisk/aagalleg/demo_bc_test/disease-prediction/vision_wf/workflows/disease_prediction/requirements.txt (line 1)) (0.4.0)\n",
      "Requirement already satisfied: h5py>=2.9.0 in ./hls_env/lib/python3.9/site-packages (from intel-tensorflow==2.11.0->-r /localdisk/aagalleg/demo_bc_test/disease-prediction/vision_wf/workflows/disease_prediction/requirements.txt (line 1)) (3.8.0)\n",
      "Requirement already satisfied: tensorflow-io-gcs-filesystem>=0.23.1 in ./hls_env/lib/python3.9/site-packages (from intel-tensorflow==2.11.0->-r /localdisk/aagalleg/demo_bc_test/disease-prediction/vision_wf/workflows/disease_prediction/requirements.txt (line 1)) (0.32.0)\n",
      "Requirement already satisfied: protobuf<3.20,>=3.9.2 in ./hls_env/lib/python3.9/site-packages (from intel-tensorflow==2.11.0->-r /localdisk/aagalleg/demo_bc_test/disease-prediction/vision_wf/workflows/disease_prediction/requirements.txt (line 1)) (3.19.6)\n",
      "Requirement already satisfied: google-pasta>=0.1.1 in ./hls_env/lib/python3.9/site-packages (from intel-tensorflow==2.11.0->-r /localdisk/aagalleg/demo_bc_test/disease-prediction/vision_wf/workflows/disease_prediction/requirements.txt (line 1)) (0.2.0)\n",
      "Requirement already satisfied: opt-einsum>=2.3.2 in ./hls_env/lib/python3.9/site-packages (from intel-tensorflow==2.11.0->-r /localdisk/aagalleg/demo_bc_test/disease-prediction/vision_wf/workflows/disease_prediction/requirements.txt (line 1)) (3.3.0)\n",
      "Requirement already satisfied: wrapt>=1.11.0 in ./hls_env/lib/python3.9/site-packages (from intel-tensorflow==2.11.0->-r /localdisk/aagalleg/demo_bc_test/disease-prediction/vision_wf/workflows/disease_prediction/requirements.txt (line 1)) (1.15.0)\n",
      "Requirement already satisfied: absl-py>=1.0.0 in ./hls_env/lib/python3.9/site-packages (from intel-tensorflow==2.11.0->-r /localdisk/aagalleg/demo_bc_test/disease-prediction/vision_wf/workflows/disease_prediction/requirements.txt (line 1)) (1.4.0)\n",
      "Requirement already satisfied: termcolor>=1.1.0 in ./hls_env/lib/python3.9/site-packages (from intel-tensorflow==2.11.0->-r /localdisk/aagalleg/demo_bc_test/disease-prediction/vision_wf/workflows/disease_prediction/requirements.txt (line 1)) (2.3.0)\n",
      "Requirement already satisfied: setuptools in ./hls_env/lib/python3.9/site-packages (from intel-tensorflow==2.11.0->-r /localdisk/aagalleg/demo_bc_test/disease-prediction/vision_wf/workflows/disease_prediction/requirements.txt (line 1)) (58.1.0)\n",
      "Requirement already satisfied: keras<2.12,>=2.11.0 in ./hls_env/lib/python3.9/site-packages (from intel-tensorflow==2.11.0->-r /localdisk/aagalleg/demo_bc_test/disease-prediction/vision_wf/workflows/disease_prediction/requirements.txt (line 1)) (2.11.0)\n",
      "Requirement already satisfied: typing-extensions>=3.6.6 in ./hls_env/lib/python3.9/site-packages (from intel-tensorflow==2.11.0->-r /localdisk/aagalleg/demo_bc_test/disease-prediction/vision_wf/workflows/disease_prediction/requirements.txt (line 1)) (4.6.2)\n",
      "Requirement already satisfied: libclang>=13.0.0 in ./hls_env/lib/python3.9/site-packages (from intel-tensorflow==2.11.0->-r /localdisk/aagalleg/demo_bc_test/disease-prediction/vision_wf/workflows/disease_prediction/requirements.txt (line 1)) (16.0.0)\n",
      "Requirement already satisfied: six>=1.12.0 in ./hls_env/lib/python3.9/site-packages (from intel-tensorflow==2.11.0->-r /localdisk/aagalleg/demo_bc_test/disease-prediction/vision_wf/workflows/disease_prediction/requirements.txt (line 1)) (1.16.0)\n",
      "Requirement already satisfied: tensorflow-estimator<2.12,>=2.11.0 in ./hls_env/lib/python3.9/site-packages (from intel-tensorflow==2.11.0->-r /localdisk/aagalleg/demo_bc_test/disease-prediction/vision_wf/workflows/disease_prediction/requirements.txt (line 1)) (2.11.0)\n",
      "Requirement already satisfied: tensorboard<2.12,>=2.11 in ./hls_env/lib/python3.9/site-packages (from intel-tensorflow==2.11.0->-r /localdisk/aagalleg/demo_bc_test/disease-prediction/vision_wf/workflows/disease_prediction/requirements.txt (line 1)) (2.11.2)\n",
      "Requirement already satisfied: packaging in ./hls_env/lib/python3.9/site-packages (from intel-tensorflow==2.11.0->-r /localdisk/aagalleg/demo_bc_test/disease-prediction/vision_wf/workflows/disease_prediction/requirements.txt (line 1)) (23.1)\n",
      "Requirement already satisfied: flatbuffers>=2.0 in ./hls_env/lib/python3.9/site-packages (from intel-tensorflow==2.11.0->-r /localdisk/aagalleg/demo_bc_test/disease-prediction/vision_wf/workflows/disease_prediction/requirements.txt (line 1)) (23.5.9)\n",
      "Requirement already satisfied: grpcio<2.0,>=1.24.3 in ./hls_env/lib/python3.9/site-packages (from intel-tensorflow==2.11.0->-r /localdisk/aagalleg/demo_bc_test/disease-prediction/vision_wf/workflows/disease_prediction/requirements.txt (line 1)) (1.54.2)\n",
      "Requirement already satisfied: astunparse>=1.6.0 in ./hls_env/lib/python3.9/site-packages (from intel-tensorflow==2.11.0->-r /localdisk/aagalleg/demo_bc_test/disease-prediction/vision_wf/workflows/disease_prediction/requirements.txt (line 1)) (1.6.3)\n",
      "Requirement already satisfied: psutil in ./hls_env/lib/python3.9/site-packages (from neural-compressor==2.0->-r /localdisk/aagalleg/demo_bc_test/disease-prediction/vision_wf/workflows/disease_prediction/requirements.txt (line 2)) (5.9.5)\n",
      "Requirement already satisfied: prettytable in ./hls_env/lib/python3.9/site-packages (from neural-compressor==2.0->-r /localdisk/aagalleg/demo_bc_test/disease-prediction/vision_wf/workflows/disease_prediction/requirements.txt (line 2)) (3.7.0)\n",
      "Requirement already satisfied: scikit-learn in ./hls_env/lib/python3.9/site-packages (from neural-compressor==2.0->-r /localdisk/aagalleg/demo_bc_test/disease-prediction/vision_wf/workflows/disease_prediction/requirements.txt (line 2)) (1.2.2)\n",
      "Requirement already satisfied: requests in ./hls_env/lib/python3.9/site-packages (from neural-compressor==2.0->-r /localdisk/aagalleg/demo_bc_test/disease-prediction/vision_wf/workflows/disease_prediction/requirements.txt (line 2)) (2.31.0)\n",
      "Requirement already satisfied: pandas in ./hls_env/lib/python3.9/site-packages (from neural-compressor==2.0->-r /localdisk/aagalleg/demo_bc_test/disease-prediction/vision_wf/workflows/disease_prediction/requirements.txt (line 2)) (2.0.1)\n",
      "Requirement already satisfied: deprecated in ./hls_env/lib/python3.9/site-packages (from neural-compressor==2.0->-r /localdisk/aagalleg/demo_bc_test/disease-prediction/vision_wf/workflows/disease_prediction/requirements.txt (line 2)) (1.2.13)\n",
      "Requirement already satisfied: schema in ./hls_env/lib/python3.9/site-packages (from neural-compressor==2.0->-r /localdisk/aagalleg/demo_bc_test/disease-prediction/vision_wf/workflows/disease_prediction/requirements.txt (line 2)) (0.7.5)\n",
      "Requirement already satisfied: opencv-python in ./hls_env/lib/python3.9/site-packages (from neural-compressor==2.0->-r /localdisk/aagalleg/demo_bc_test/disease-prediction/vision_wf/workflows/disease_prediction/requirements.txt (line 2)) (4.7.0.72)\n",
      "Requirement already satisfied: pycocotools in ./hls_env/lib/python3.9/site-packages (from neural-compressor==2.0->-r /localdisk/aagalleg/demo_bc_test/disease-prediction/vision_wf/workflows/disease_prediction/requirements.txt (line 2)) (2.0.6)\n",
      "Requirement already satisfied: py-cpuinfo in ./hls_env/lib/python3.9/site-packages (from neural-compressor==2.0->-r /localdisk/aagalleg/demo_bc_test/disease-prediction/vision_wf/workflows/disease_prediction/requirements.txt (line 2)) (9.0.0)\n",
      "Requirement already satisfied: wheel<1.0,>=0.23.0 in ./hls_env/lib/python3.9/site-packages (from astunparse>=1.6.0->intel-tensorflow==2.11.0->-r /localdisk/aagalleg/demo_bc_test/disease-prediction/vision_wf/workflows/disease_prediction/requirements.txt (line 1)) (0.40.0)\n",
      "Requirement already satisfied: werkzeug>=1.0.1 in ./hls_env/lib/python3.9/site-packages (from tensorboard<2.12,>=2.11->intel-tensorflow==2.11.0->-r /localdisk/aagalleg/demo_bc_test/disease-prediction/vision_wf/workflows/disease_prediction/requirements.txt (line 1)) (2.3.4)\n",
      "Requirement already satisfied: tensorboard-plugin-wit>=1.6.0 in ./hls_env/lib/python3.9/site-packages (from tensorboard<2.12,>=2.11->intel-tensorflow==2.11.0->-r /localdisk/aagalleg/demo_bc_test/disease-prediction/vision_wf/workflows/disease_prediction/requirements.txt (line 1)) (1.8.1)\n",
      "Requirement already satisfied: markdown>=2.6.8 in ./hls_env/lib/python3.9/site-packages (from tensorboard<2.12,>=2.11->intel-tensorflow==2.11.0->-r /localdisk/aagalleg/demo_bc_test/disease-prediction/vision_wf/workflows/disease_prediction/requirements.txt (line 1)) (3.4.3)\n",
      "Requirement already satisfied: google-auth-oauthlib<0.5,>=0.4.1 in ./hls_env/lib/python3.9/site-packages (from tensorboard<2.12,>=2.11->intel-tensorflow==2.11.0->-r /localdisk/aagalleg/demo_bc_test/disease-prediction/vision_wf/workflows/disease_prediction/requirements.txt (line 1)) (0.4.6)\n",
      "Requirement already satisfied: google-auth<3,>=1.6.3 in ./hls_env/lib/python3.9/site-packages (from tensorboard<2.12,>=2.11->intel-tensorflow==2.11.0->-r /localdisk/aagalleg/demo_bc_test/disease-prediction/vision_wf/workflows/disease_prediction/requirements.txt (line 1)) (2.18.1)\n",
      "Requirement already satisfied: tensorboard-data-server<0.7.0,>=0.6.0 in ./hls_env/lib/python3.9/site-packages (from tensorboard<2.12,>=2.11->intel-tensorflow==2.11.0->-r /localdisk/aagalleg/demo_bc_test/disease-prediction/vision_wf/workflows/disease_prediction/requirements.txt (line 1)) (0.6.1)\n",
      "Requirement already satisfied: urllib3<3,>=1.21.1 in ./hls_env/lib/python3.9/site-packages (from requests->neural-compressor==2.0->-r /localdisk/aagalleg/demo_bc_test/disease-prediction/vision_wf/workflows/disease_prediction/requirements.txt (line 2)) (1.26.16)\n",
      "Requirement already satisfied: idna<4,>=2.5 in ./hls_env/lib/python3.9/site-packages (from requests->neural-compressor==2.0->-r /localdisk/aagalleg/demo_bc_test/disease-prediction/vision_wf/workflows/disease_prediction/requirements.txt (line 2)) (3.4)\n",
      "Requirement already satisfied: charset-normalizer<4,>=2 in ./hls_env/lib/python3.9/site-packages (from requests->neural-compressor==2.0->-r /localdisk/aagalleg/demo_bc_test/disease-prediction/vision_wf/workflows/disease_prediction/requirements.txt (line 2)) (3.1.0)\n",
      "Requirement already satisfied: certifi>=2017.4.17 in ./hls_env/lib/python3.9/site-packages (from requests->neural-compressor==2.0->-r /localdisk/aagalleg/demo_bc_test/disease-prediction/vision_wf/workflows/disease_prediction/requirements.txt (line 2)) (2023.5.7)\n",
      "Requirement already satisfied: pytz>=2020.1 in ./hls_env/lib/python3.9/site-packages (from pandas->neural-compressor==2.0->-r /localdisk/aagalleg/demo_bc_test/disease-prediction/vision_wf/workflows/disease_prediction/requirements.txt (line 2)) (2023.3)\n",
      "Requirement already satisfied: tzdata>=2022.1 in ./hls_env/lib/python3.9/site-packages (from pandas->neural-compressor==2.0->-r /localdisk/aagalleg/demo_bc_test/disease-prediction/vision_wf/workflows/disease_prediction/requirements.txt (line 2)) (2023.3)\n",
      "Requirement already satisfied: python-dateutil>=2.8.2 in ./hls_env/lib/python3.9/site-packages (from pandas->neural-compressor==2.0->-r /localdisk/aagalleg/demo_bc_test/disease-prediction/vision_wf/workflows/disease_prediction/requirements.txt (line 2)) (2.8.2)\n",
      "Requirement already satisfied: wcwidth in ./hls_env/lib/python3.9/site-packages (from prettytable->neural-compressor==2.0->-r /localdisk/aagalleg/demo_bc_test/disease-prediction/vision_wf/workflows/disease_prediction/requirements.txt (line 2)) (0.2.6)\n",
      "Requirement already satisfied: matplotlib>=2.1.0 in ./hls_env/lib/python3.9/site-packages (from pycocotools->neural-compressor==2.0->-r /localdisk/aagalleg/demo_bc_test/disease-prediction/vision_wf/workflows/disease_prediction/requirements.txt (line 2)) (3.7.1)\n",
      "Requirement already satisfied: contextlib2>=0.5.5 in ./hls_env/lib/python3.9/site-packages (from schema->neural-compressor==2.0->-r /localdisk/aagalleg/demo_bc_test/disease-prediction/vision_wf/workflows/disease_prediction/requirements.txt (line 2)) (21.6.0)\n",
      "Requirement already satisfied: scipy>=1.3.2 in ./hls_env/lib/python3.9/site-packages (from scikit-learn->neural-compressor==2.0->-r /localdisk/aagalleg/demo_bc_test/disease-prediction/vision_wf/workflows/disease_prediction/requirements.txt (line 2)) (1.10.1)\n",
      "Requirement already satisfied: threadpoolctl>=2.0.0 in ./hls_env/lib/python3.9/site-packages (from scikit-learn->neural-compressor==2.0->-r /localdisk/aagalleg/demo_bc_test/disease-prediction/vision_wf/workflows/disease_prediction/requirements.txt (line 2)) (3.1.0)\n",
      "Requirement already satisfied: joblib>=1.1.1 in ./hls_env/lib/python3.9/site-packages (from scikit-learn->neural-compressor==2.0->-r /localdisk/aagalleg/demo_bc_test/disease-prediction/vision_wf/workflows/disease_prediction/requirements.txt (line 2)) (1.2.0)\n",
      "Requirement already satisfied: pyasn1-modules>=0.2.1 in ./hls_env/lib/python3.9/site-packages (from google-auth<3,>=1.6.3->tensorboard<2.12,>=2.11->intel-tensorflow==2.11.0->-r /localdisk/aagalleg/demo_bc_test/disease-prediction/vision_wf/workflows/disease_prediction/requirements.txt (line 1)) (0.3.0)\n",
      "Requirement already satisfied: cachetools<6.0,>=2.0.0 in ./hls_env/lib/python3.9/site-packages (from google-auth<3,>=1.6.3->tensorboard<2.12,>=2.11->intel-tensorflow==2.11.0->-r /localdisk/aagalleg/demo_bc_test/disease-prediction/vision_wf/workflows/disease_prediction/requirements.txt (line 1)) (5.3.0)\n",
      "Requirement already satisfied: rsa<5,>=3.1.4 in ./hls_env/lib/python3.9/site-packages (from google-auth<3,>=1.6.3->tensorboard<2.12,>=2.11->intel-tensorflow==2.11.0->-r /localdisk/aagalleg/demo_bc_test/disease-prediction/vision_wf/workflows/disease_prediction/requirements.txt (line 1)) (4.9)\n",
      "Requirement already satisfied: requests-oauthlib>=0.7.0 in ./hls_env/lib/python3.9/site-packages (from google-auth-oauthlib<0.5,>=0.4.1->tensorboard<2.12,>=2.11->intel-tensorflow==2.11.0->-r /localdisk/aagalleg/demo_bc_test/disease-prediction/vision_wf/workflows/disease_prediction/requirements.txt (line 1)) (1.3.1)\n",
      "Requirement already satisfied: importlib-metadata>=4.4 in ./hls_env/lib/python3.9/site-packages (from markdown>=2.6.8->tensorboard<2.12,>=2.11->intel-tensorflow==2.11.0->-r /localdisk/aagalleg/demo_bc_test/disease-prediction/vision_wf/workflows/disease_prediction/requirements.txt (line 1)) (6.6.0)\n",
      "Requirement already satisfied: kiwisolver>=1.0.1 in ./hls_env/lib/python3.9/site-packages (from matplotlib>=2.1.0->pycocotools->neural-compressor==2.0->-r /localdisk/aagalleg/demo_bc_test/disease-prediction/vision_wf/workflows/disease_prediction/requirements.txt (line 2)) (1.4.4)\n",
      "Requirement already satisfied: pyparsing>=2.3.1 in ./hls_env/lib/python3.9/site-packages (from matplotlib>=2.1.0->pycocotools->neural-compressor==2.0->-r /localdisk/aagalleg/demo_bc_test/disease-prediction/vision_wf/workflows/disease_prediction/requirements.txt (line 2)) (3.0.9)\n",
      "Requirement already satisfied: cycler>=0.10 in ./hls_env/lib/python3.9/site-packages (from matplotlib>=2.1.0->pycocotools->neural-compressor==2.0->-r /localdisk/aagalleg/demo_bc_test/disease-prediction/vision_wf/workflows/disease_prediction/requirements.txt (line 2)) (0.11.0)\n",
      "Requirement already satisfied: fonttools>=4.22.0 in ./hls_env/lib/python3.9/site-packages (from matplotlib>=2.1.0->pycocotools->neural-compressor==2.0->-r /localdisk/aagalleg/demo_bc_test/disease-prediction/vision_wf/workflows/disease_prediction/requirements.txt (line 2)) (4.39.4)\n",
      "Requirement already satisfied: importlib-resources>=3.2.0 in ./hls_env/lib/python3.9/site-packages (from matplotlib>=2.1.0->pycocotools->neural-compressor==2.0->-r /localdisk/aagalleg/demo_bc_test/disease-prediction/vision_wf/workflows/disease_prediction/requirements.txt (line 2)) (5.12.0)\n",
      "Requirement already satisfied: contourpy>=1.0.1 in ./hls_env/lib/python3.9/site-packages (from matplotlib>=2.1.0->pycocotools->neural-compressor==2.0->-r /localdisk/aagalleg/demo_bc_test/disease-prediction/vision_wf/workflows/disease_prediction/requirements.txt (line 2)) (1.0.7)\n",
      "Requirement already satisfied: MarkupSafe>=2.1.1 in ./hls_env/lib/python3.9/site-packages (from werkzeug>=1.0.1->tensorboard<2.12,>=2.11->intel-tensorflow==2.11.0->-r /localdisk/aagalleg/demo_bc_test/disease-prediction/vision_wf/workflows/disease_prediction/requirements.txt (line 1)) (2.1.2)\n",
      "Requirement already satisfied: zipp>=0.5 in ./hls_env/lib/python3.9/site-packages (from importlib-metadata>=4.4->markdown>=2.6.8->tensorboard<2.12,>=2.11->intel-tensorflow==2.11.0->-r /localdisk/aagalleg/demo_bc_test/disease-prediction/vision_wf/workflows/disease_prediction/requirements.txt (line 1)) (3.15.0)\n",
      "Requirement already satisfied: pyasn1<0.6.0,>=0.4.6 in ./hls_env/lib/python3.9/site-packages (from pyasn1-modules>=0.2.1->google-auth<3,>=1.6.3->tensorboard<2.12,>=2.11->intel-tensorflow==2.11.0->-r /localdisk/aagalleg/demo_bc_test/disease-prediction/vision_wf/workflows/disease_prediction/requirements.txt (line 1)) (0.5.0)\n",
      "Requirement already satisfied: oauthlib>=3.0.0 in ./hls_env/lib/python3.9/site-packages (from requests-oauthlib>=0.7.0->google-auth-oauthlib<0.5,>=0.4.1->tensorboard<2.12,>=2.11->intel-tensorflow==2.11.0->-r /localdisk/aagalleg/demo_bc_test/disease-prediction/vision_wf/workflows/disease_prediction/requirements.txt (line 1)) (3.2.2)\n",
      "Installing collected packages: neural-compressor\n",
      "  Attempting uninstall: neural-compressor\n",
      "    Found existing installation: neural-compressor 2.1\n",
      "    Uninstalling neural-compressor-2.1:\n",
      "      Successfully uninstalled neural-compressor-2.1\n",
      "Successfully installed neural-compressor-2.0\n",
      "\u001b[33mWARNING: You are using pip version 22.0.4; however, version 23.1.2 is available.\n",
      "You should consider upgrading via the '/localdisk/aagalleg/demo_bc_test/disease-prediction/hls_env/bin/python -m pip install --upgrade pip' command.\u001b[0m\u001b[33m\n",
      "\u001b[0mLooking in indexes: https://pypi.org/simple, https://download.pytorch.org/whl/cpu\n",
      "Requirement already satisfied: transformers==4.26.0 in ./hls_env/lib/python3.9/site-packages (from -r /localdisk/aagalleg/demo_bc_test/disease-prediction/hf_nlp/workflows/hf_finetuning_and_inference_nlp/requirements.txt (line 1)) (4.26.0)\n",
      "Requirement already satisfied: datasets==2.11.0 in ./hls_env/lib/python3.9/site-packages (from -r /localdisk/aagalleg/demo_bc_test/disease-prediction/hf_nlp/workflows/hf_finetuning_and_inference_nlp/requirements.txt (line 2)) (2.11.0)\n",
      "Collecting neural-compressor==2.1\n",
      "  Using cached neural_compressor-2.1-py3-none-any.whl (1.2 MB)\n",
      "Requirement already satisfied: torch==1.13.1 in ./hls_env/lib/python3.9/site-packages (from -r /localdisk/aagalleg/demo_bc_test/disease-prediction/hf_nlp/workflows/hf_finetuning_and_inference_nlp/requirements.txt (line 5)) (1.13.1+cpu)\n",
      "Requirement already satisfied: intel_extension_for_pytorch==1.13.100 in ./hls_env/lib/python3.9/site-packages (from -r /localdisk/aagalleg/demo_bc_test/disease-prediction/hf_nlp/workflows/hf_finetuning_and_inference_nlp/requirements.txt (line 6)) (1.13.100)\n",
      "Requirement already satisfied: intel-extension-for-transformers==1.0.0 in ./hls_env/lib/python3.9/site-packages (from -r /localdisk/aagalleg/demo_bc_test/disease-prediction/hf_nlp/workflows/hf_finetuning_and_inference_nlp/requirements.txt (line 7)) (1.0.0)\n",
      "Requirement already satisfied: filelock in ./hls_env/lib/python3.9/site-packages (from transformers==4.26.0->-r /localdisk/aagalleg/demo_bc_test/disease-prediction/hf_nlp/workflows/hf_finetuning_and_inference_nlp/requirements.txt (line 1)) (3.12.0)\n",
      "Requirement already satisfied: huggingface-hub<1.0,>=0.11.0 in ./hls_env/lib/python3.9/site-packages (from transformers==4.26.0->-r /localdisk/aagalleg/demo_bc_test/disease-prediction/hf_nlp/workflows/hf_finetuning_and_inference_nlp/requirements.txt (line 1)) (0.14.1)\n",
      "Requirement already satisfied: numpy>=1.17 in ./hls_env/lib/python3.9/site-packages (from transformers==4.26.0->-r /localdisk/aagalleg/demo_bc_test/disease-prediction/hf_nlp/workflows/hf_finetuning_and_inference_nlp/requirements.txt (line 1)) (1.22.0)\n",
      "Requirement already satisfied: tqdm>=4.27 in ./hls_env/lib/python3.9/site-packages (from transformers==4.26.0->-r /localdisk/aagalleg/demo_bc_test/disease-prediction/hf_nlp/workflows/hf_finetuning_and_inference_nlp/requirements.txt (line 1)) (4.65.0)\n",
      "Requirement already satisfied: regex!=2019.12.17 in ./hls_env/lib/python3.9/site-packages (from transformers==4.26.0->-r /localdisk/aagalleg/demo_bc_test/disease-prediction/hf_nlp/workflows/hf_finetuning_and_inference_nlp/requirements.txt (line 1)) (2023.5.5)\n",
      "Requirement already satisfied: tokenizers!=0.11.3,<0.14,>=0.11.1 in ./hls_env/lib/python3.9/site-packages (from transformers==4.26.0->-r /localdisk/aagalleg/demo_bc_test/disease-prediction/hf_nlp/workflows/hf_finetuning_and_inference_nlp/requirements.txt (line 1)) (0.13.3)\n",
      "Requirement already satisfied: packaging>=20.0 in ./hls_env/lib/python3.9/site-packages (from transformers==4.26.0->-r /localdisk/aagalleg/demo_bc_test/disease-prediction/hf_nlp/workflows/hf_finetuning_and_inference_nlp/requirements.txt (line 1)) (23.1)\n",
      "Requirement already satisfied: requests in ./hls_env/lib/python3.9/site-packages (from transformers==4.26.0->-r /localdisk/aagalleg/demo_bc_test/disease-prediction/hf_nlp/workflows/hf_finetuning_and_inference_nlp/requirements.txt (line 1)) (2.31.0)\n",
      "Requirement already satisfied: pyyaml>=5.1 in ./hls_env/lib/python3.9/site-packages (from transformers==4.26.0->-r /localdisk/aagalleg/demo_bc_test/disease-prediction/hf_nlp/workflows/hf_finetuning_and_inference_nlp/requirements.txt (line 1)) (6.0)\n",
      "Requirement already satisfied: multiprocess in ./hls_env/lib/python3.9/site-packages (from datasets==2.11.0->-r /localdisk/aagalleg/demo_bc_test/disease-prediction/hf_nlp/workflows/hf_finetuning_and_inference_nlp/requirements.txt (line 2)) (0.70.14)\n",
      "Requirement already satisfied: responses<0.19 in ./hls_env/lib/python3.9/site-packages (from datasets==2.11.0->-r /localdisk/aagalleg/demo_bc_test/disease-prediction/hf_nlp/workflows/hf_finetuning_and_inference_nlp/requirements.txt (line 2)) (0.18.0)\n",
      "Requirement already satisfied: aiohttp in ./hls_env/lib/python3.9/site-packages (from datasets==2.11.0->-r /localdisk/aagalleg/demo_bc_test/disease-prediction/hf_nlp/workflows/hf_finetuning_and_inference_nlp/requirements.txt (line 2)) (3.8.4)\n",
      "Requirement already satisfied: dill<0.3.7,>=0.3.0 in ./hls_env/lib/python3.9/site-packages (from datasets==2.11.0->-r /localdisk/aagalleg/demo_bc_test/disease-prediction/hf_nlp/workflows/hf_finetuning_and_inference_nlp/requirements.txt (line 2)) (0.3.6)\n",
      "Requirement already satisfied: pandas in ./hls_env/lib/python3.9/site-packages (from datasets==2.11.0->-r /localdisk/aagalleg/demo_bc_test/disease-prediction/hf_nlp/workflows/hf_finetuning_and_inference_nlp/requirements.txt (line 2)) (2.0.1)\n",
      "Requirement already satisfied: pyarrow>=8.0.0 in ./hls_env/lib/python3.9/site-packages (from datasets==2.11.0->-r /localdisk/aagalleg/demo_bc_test/disease-prediction/hf_nlp/workflows/hf_finetuning_and_inference_nlp/requirements.txt (line 2)) (12.0.0)\n",
      "Requirement already satisfied: xxhash in ./hls_env/lib/python3.9/site-packages (from datasets==2.11.0->-r /localdisk/aagalleg/demo_bc_test/disease-prediction/hf_nlp/workflows/hf_finetuning_and_inference_nlp/requirements.txt (line 2)) (3.2.0)\n",
      "Requirement already satisfied: fsspec[http]>=2021.11.1 in ./hls_env/lib/python3.9/site-packages (from datasets==2.11.0->-r /localdisk/aagalleg/demo_bc_test/disease-prediction/hf_nlp/workflows/hf_finetuning_and_inference_nlp/requirements.txt (line 2)) (2023.5.0)\n",
      "Requirement already satisfied: schema in ./hls_env/lib/python3.9/site-packages (from neural-compressor==2.1->-r /localdisk/aagalleg/demo_bc_test/disease-prediction/hf_nlp/workflows/hf_finetuning_and_inference_nlp/requirements.txt (line 3)) (0.7.5)\n",
      "Requirement already satisfied: deprecated in ./hls_env/lib/python3.9/site-packages (from neural-compressor==2.1->-r /localdisk/aagalleg/demo_bc_test/disease-prediction/hf_nlp/workflows/hf_finetuning_and_inference_nlp/requirements.txt (line 3)) (1.2.13)\n",
      "Requirement already satisfied: psutil in ./hls_env/lib/python3.9/site-packages (from neural-compressor==2.1->-r /localdisk/aagalleg/demo_bc_test/disease-prediction/hf_nlp/workflows/hf_finetuning_and_inference_nlp/requirements.txt (line 3)) (5.9.5)\n",
      "Requirement already satisfied: prettytable in ./hls_env/lib/python3.9/site-packages (from neural-compressor==2.1->-r /localdisk/aagalleg/demo_bc_test/disease-prediction/hf_nlp/workflows/hf_finetuning_and_inference_nlp/requirements.txt (line 3)) (3.7.0)\n",
      "Requirement already satisfied: scikit-learn in ./hls_env/lib/python3.9/site-packages (from neural-compressor==2.1->-r /localdisk/aagalleg/demo_bc_test/disease-prediction/hf_nlp/workflows/hf_finetuning_and_inference_nlp/requirements.txt (line 3)) (1.2.2)\n",
      "Requirement already satisfied: py-cpuinfo in ./hls_env/lib/python3.9/site-packages (from neural-compressor==2.1->-r /localdisk/aagalleg/demo_bc_test/disease-prediction/hf_nlp/workflows/hf_finetuning_and_inference_nlp/requirements.txt (line 3)) (9.0.0)\n",
      "Requirement already satisfied: Pillow in ./hls_env/lib/python3.9/site-packages (from neural-compressor==2.1->-r /localdisk/aagalleg/demo_bc_test/disease-prediction/hf_nlp/workflows/hf_finetuning_and_inference_nlp/requirements.txt (line 3)) (9.5.0)\n",
      "Requirement already satisfied: opencv-python in ./hls_env/lib/python3.9/site-packages (from neural-compressor==2.1->-r /localdisk/aagalleg/demo_bc_test/disease-prediction/hf_nlp/workflows/hf_finetuning_and_inference_nlp/requirements.txt (line 3)) (4.7.0.72)\n",
      "Requirement already satisfied: pycocotools in ./hls_env/lib/python3.9/site-packages (from neural-compressor==2.1->-r /localdisk/aagalleg/demo_bc_test/disease-prediction/hf_nlp/workflows/hf_finetuning_and_inference_nlp/requirements.txt (line 3)) (2.0.6)\n",
      "Requirement already satisfied: typing-extensions in ./hls_env/lib/python3.9/site-packages (from torch==1.13.1->-r /localdisk/aagalleg/demo_bc_test/disease-prediction/hf_nlp/workflows/hf_finetuning_and_inference_nlp/requirements.txt (line 5)) (4.6.2)\n",
      "Requirement already satisfied: yarl<2.0,>=1.0 in ./hls_env/lib/python3.9/site-packages (from aiohttp->datasets==2.11.0->-r /localdisk/aagalleg/demo_bc_test/disease-prediction/hf_nlp/workflows/hf_finetuning_and_inference_nlp/requirements.txt (line 2)) (1.9.2)\n",
      "Requirement already satisfied: aiosignal>=1.1.2 in ./hls_env/lib/python3.9/site-packages (from aiohttp->datasets==2.11.0->-r /localdisk/aagalleg/demo_bc_test/disease-prediction/hf_nlp/workflows/hf_finetuning_and_inference_nlp/requirements.txt (line 2)) (1.3.1)\n",
      "Requirement already satisfied: frozenlist>=1.1.1 in ./hls_env/lib/python3.9/site-packages (from aiohttp->datasets==2.11.0->-r /localdisk/aagalleg/demo_bc_test/disease-prediction/hf_nlp/workflows/hf_finetuning_and_inference_nlp/requirements.txt (line 2)) (1.3.3)\n",
      "Requirement already satisfied: attrs>=17.3.0 in ./hls_env/lib/python3.9/site-packages (from aiohttp->datasets==2.11.0->-r /localdisk/aagalleg/demo_bc_test/disease-prediction/hf_nlp/workflows/hf_finetuning_and_inference_nlp/requirements.txt (line 2)) (23.1.0)\n",
      "Requirement already satisfied: async-timeout<5.0,>=4.0.0a3 in ./hls_env/lib/python3.9/site-packages (from aiohttp->datasets==2.11.0->-r /localdisk/aagalleg/demo_bc_test/disease-prediction/hf_nlp/workflows/hf_finetuning_and_inference_nlp/requirements.txt (line 2)) (4.0.2)\n",
      "Requirement already satisfied: charset-normalizer<4.0,>=2.0 in ./hls_env/lib/python3.9/site-packages (from aiohttp->datasets==2.11.0->-r /localdisk/aagalleg/demo_bc_test/disease-prediction/hf_nlp/workflows/hf_finetuning_and_inference_nlp/requirements.txt (line 2)) (3.1.0)\n",
      "Requirement already satisfied: multidict<7.0,>=4.5 in ./hls_env/lib/python3.9/site-packages (from aiohttp->datasets==2.11.0->-r /localdisk/aagalleg/demo_bc_test/disease-prediction/hf_nlp/workflows/hf_finetuning_and_inference_nlp/requirements.txt (line 2)) (6.0.4)\n",
      "Requirement already satisfied: idna<4,>=2.5 in ./hls_env/lib/python3.9/site-packages (from requests->transformers==4.26.0->-r /localdisk/aagalleg/demo_bc_test/disease-prediction/hf_nlp/workflows/hf_finetuning_and_inference_nlp/requirements.txt (line 1)) (3.4)\n",
      "Requirement already satisfied: certifi>=2017.4.17 in ./hls_env/lib/python3.9/site-packages (from requests->transformers==4.26.0->-r /localdisk/aagalleg/demo_bc_test/disease-prediction/hf_nlp/workflows/hf_finetuning_and_inference_nlp/requirements.txt (line 1)) (2023.5.7)\n",
      "Requirement already satisfied: urllib3<3,>=1.21.1 in ./hls_env/lib/python3.9/site-packages (from requests->transformers==4.26.0->-r /localdisk/aagalleg/demo_bc_test/disease-prediction/hf_nlp/workflows/hf_finetuning_and_inference_nlp/requirements.txt (line 1)) (1.26.16)\n",
      "Requirement already satisfied: wrapt<2,>=1.10 in ./hls_env/lib/python3.9/site-packages (from deprecated->neural-compressor==2.1->-r /localdisk/aagalleg/demo_bc_test/disease-prediction/hf_nlp/workflows/hf_finetuning_and_inference_nlp/requirements.txt (line 3)) (1.15.0)\n",
      "Requirement already satisfied: python-dateutil>=2.8.2 in ./hls_env/lib/python3.9/site-packages (from pandas->datasets==2.11.0->-r /localdisk/aagalleg/demo_bc_test/disease-prediction/hf_nlp/workflows/hf_finetuning_and_inference_nlp/requirements.txt (line 2)) (2.8.2)\n",
      "Requirement already satisfied: tzdata>=2022.1 in ./hls_env/lib/python3.9/site-packages (from pandas->datasets==2.11.0->-r /localdisk/aagalleg/demo_bc_test/disease-prediction/hf_nlp/workflows/hf_finetuning_and_inference_nlp/requirements.txt (line 2)) (2023.3)\n",
      "Requirement already satisfied: pytz>=2020.1 in ./hls_env/lib/python3.9/site-packages (from pandas->datasets==2.11.0->-r /localdisk/aagalleg/demo_bc_test/disease-prediction/hf_nlp/workflows/hf_finetuning_and_inference_nlp/requirements.txt (line 2)) (2023.3)\n",
      "Requirement already satisfied: wcwidth in ./hls_env/lib/python3.9/site-packages (from prettytable->neural-compressor==2.1->-r /localdisk/aagalleg/demo_bc_test/disease-prediction/hf_nlp/workflows/hf_finetuning_and_inference_nlp/requirements.txt (line 3)) (0.2.6)\n",
      "Requirement already satisfied: matplotlib>=2.1.0 in ./hls_env/lib/python3.9/site-packages (from pycocotools->neural-compressor==2.1->-r /localdisk/aagalleg/demo_bc_test/disease-prediction/hf_nlp/workflows/hf_finetuning_and_inference_nlp/requirements.txt (line 3)) (3.7.1)\n",
      "Requirement already satisfied: contextlib2>=0.5.5 in ./hls_env/lib/python3.9/site-packages (from schema->neural-compressor==2.1->-r /localdisk/aagalleg/demo_bc_test/disease-prediction/hf_nlp/workflows/hf_finetuning_and_inference_nlp/requirements.txt (line 3)) (21.6.0)\n",
      "Requirement already satisfied: scipy>=1.3.2 in ./hls_env/lib/python3.9/site-packages (from scikit-learn->neural-compressor==2.1->-r /localdisk/aagalleg/demo_bc_test/disease-prediction/hf_nlp/workflows/hf_finetuning_and_inference_nlp/requirements.txt (line 3)) (1.10.1)\n",
      "Requirement already satisfied: threadpoolctl>=2.0.0 in ./hls_env/lib/python3.9/site-packages (from scikit-learn->neural-compressor==2.1->-r /localdisk/aagalleg/demo_bc_test/disease-prediction/hf_nlp/workflows/hf_finetuning_and_inference_nlp/requirements.txt (line 3)) (3.1.0)\n",
      "Requirement already satisfied: joblib>=1.1.1 in ./hls_env/lib/python3.9/site-packages (from scikit-learn->neural-compressor==2.1->-r /localdisk/aagalleg/demo_bc_test/disease-prediction/hf_nlp/workflows/hf_finetuning_and_inference_nlp/requirements.txt (line 3)) (1.2.0)\n",
      "Requirement already satisfied: kiwisolver>=1.0.1 in ./hls_env/lib/python3.9/site-packages (from matplotlib>=2.1.0->pycocotools->neural-compressor==2.1->-r /localdisk/aagalleg/demo_bc_test/disease-prediction/hf_nlp/workflows/hf_finetuning_and_inference_nlp/requirements.txt (line 3)) (1.4.4)\n",
      "Requirement already satisfied: contourpy>=1.0.1 in ./hls_env/lib/python3.9/site-packages (from matplotlib>=2.1.0->pycocotools->neural-compressor==2.1->-r /localdisk/aagalleg/demo_bc_test/disease-prediction/hf_nlp/workflows/hf_finetuning_and_inference_nlp/requirements.txt (line 3)) (1.0.7)\n",
      "Requirement already satisfied: fonttools>=4.22.0 in ./hls_env/lib/python3.9/site-packages (from matplotlib>=2.1.0->pycocotools->neural-compressor==2.1->-r /localdisk/aagalleg/demo_bc_test/disease-prediction/hf_nlp/workflows/hf_finetuning_and_inference_nlp/requirements.txt (line 3)) (4.39.4)\n",
      "Requirement already satisfied: cycler>=0.10 in ./hls_env/lib/python3.9/site-packages (from matplotlib>=2.1.0->pycocotools->neural-compressor==2.1->-r /localdisk/aagalleg/demo_bc_test/disease-prediction/hf_nlp/workflows/hf_finetuning_and_inference_nlp/requirements.txt (line 3)) (0.11.0)\n",
      "Requirement already satisfied: pyparsing>=2.3.1 in ./hls_env/lib/python3.9/site-packages (from matplotlib>=2.1.0->pycocotools->neural-compressor==2.1->-r /localdisk/aagalleg/demo_bc_test/disease-prediction/hf_nlp/workflows/hf_finetuning_and_inference_nlp/requirements.txt (line 3)) (3.0.9)\n",
      "Requirement already satisfied: importlib-resources>=3.2.0 in ./hls_env/lib/python3.9/site-packages (from matplotlib>=2.1.0->pycocotools->neural-compressor==2.1->-r /localdisk/aagalleg/demo_bc_test/disease-prediction/hf_nlp/workflows/hf_finetuning_and_inference_nlp/requirements.txt (line 3)) (5.12.0)\n",
      "Requirement already satisfied: six>=1.5 in ./hls_env/lib/python3.9/site-packages (from python-dateutil>=2.8.2->pandas->datasets==2.11.0->-r /localdisk/aagalleg/demo_bc_test/disease-prediction/hf_nlp/workflows/hf_finetuning_and_inference_nlp/requirements.txt (line 2)) (1.16.0)\n",
      "Requirement already satisfied: zipp>=3.1.0 in ./hls_env/lib/python3.9/site-packages (from importlib-resources>=3.2.0->matplotlib>=2.1.0->pycocotools->neural-compressor==2.1->-r /localdisk/aagalleg/demo_bc_test/disease-prediction/hf_nlp/workflows/hf_finetuning_and_inference_nlp/requirements.txt (line 3)) (3.15.0)\n",
      "Installing collected packages: neural-compressor\n",
      "  Attempting uninstall: neural-compressor\n",
      "    Found existing installation: neural-compressor 2.0\n",
      "    Uninstalling neural-compressor-2.0:\n",
      "      Successfully uninstalled neural-compressor-2.0\n",
      "Successfully installed neural-compressor-2.1\n",
      "\u001b[33mWARNING: You are using pip version 22.0.4; however, version 23.1.2 is available.\n",
      "You should consider upgrading via the '/localdisk/aagalleg/demo_bc_test/disease-prediction/hls_env/bin/python -m pip install --upgrade pip' command.\u001b[0m\u001b[33m\n",
      "\u001b[0m## Purpose of the Model Zoo\n",
      "\n",
      "  - Demonstrate the AI workloads and deep learning models Intel has optimized and validated to run on Intel hardware\n",
      "  - Show how to efficiently execute, train, and deploy Intel-optimized models\n",
      "  - Make it easy to get started running Intel-optimized models on Intel hardware in the cloud or on bare metal\n",
      "\n",
      "***DISCLAIMER: These scripts are not intended for benchmarking Intel platforms.\n",
      "For any performance and/or benchmarking information on specific Intel platforms, visit https://www.intel.ai/blog.***\n",
      "\n",
      "Intel is committed to the respect of human rights and avoiding complicity in human rights abuses, a policy reflected at https://www.intel.com/content/www/us/en/policy/policy-human-rights.html. Accordingly, by accessing the Intel material on this platform you agree that you will not use the material in a product or application that causes or contributes to a violation of an internationally recognized human right.\n",
      "\n",
      "## License\n",
      "The Model Zoo for Intel® Architecture is licensed under https://github.com/IntelAI/models/blob/master/LICENSE.\n",
      "\n",
      "## Datasets\n",
      "To the extent that any public datasets are referenced by Intel or accessed using tools or code on this site those datasets are provided by the third party indicated as the data source. Intel does not create the data, or datasets, and does not warrant their accuracy or quality. By accessing the public dataset(s) you agree to the terms associated with those datasets and that your use complies with the applicable license.\n",
      "\n",
      "Please check the list of datasets used in Model Zoo for Intel® Architecture in https://github.com/IntelAI/models/datasets directory.\n",
      "\n",
      "Intel expressly disclaims the accuracy, adequacy, or completeness of any public datasets, and is not liable for any errors, omissions, or defects in the data, or for any reliance on the data. Intel is not liable for any liability or damages relating to your use of public datasets.\n"
     ]
    },
    {
     "name": "stdin",
     "output_type": "stream",
     "text": [
      "\n",
      "Do you agree to the terms and conditions? (y/n):\n",
      " y\n"
     ]
    },
    {
     "name": "stdout",
     "output_type": "stream",
     "text": [
      "Setup completed!\n",
      "Terms and conditions agreed\n"
     ]
    },
    {
     "name": "stderr",
     "output_type": "stream",
     "text": [
      "E: Could not open lock file /var/lib/dpkg/lock-frontend - open (13: Permission denied)\n",
      "E: Unable to acquire the dpkg frontend lock (/var/lib/dpkg/lock-frontend), are you root?\n"
     ]
    },
    {
     "name": "stdout",
     "output_type": "stream",
     "text": [
      "Requirement already satisfied: pandas in /localdisk/aagalleg/demo_bc_test/disease-prediction/hls_env/lib/python3.9/site-packages (from -r requirements.txt (line 1)) (2.0.1)\n",
      "Requirement already satisfied: tqdm in /localdisk/aagalleg/demo_bc_test/disease-prediction/hls_env/lib/python3.9/site-packages (from -r requirements.txt (line 2)) (4.65.0)\n",
      "Requirement already satisfied: docx2txt in /localdisk/aagalleg/demo_bc_test/disease-prediction/hls_env/lib/python3.9/site-packages (from -r requirements.txt (line 3)) (0.8)\n",
      "Requirement already satisfied: openpyxl in /localdisk/aagalleg/demo_bc_test/disease-prediction/hls_env/lib/python3.9/site-packages (from -r requirements.txt (line 4)) (3.1.2)\n",
      "Requirement already satisfied: pillow in /localdisk/aagalleg/demo_bc_test/disease-prediction/hls_env/lib/python3.9/site-packages (from -r requirements.txt (line 5)) (9.5.0)\n",
      "Requirement already satisfied: scikit-learn-intelex in /localdisk/aagalleg/demo_bc_test/disease-prediction/hls_env/lib/python3.9/site-packages (from -r requirements.txt (line 6)) (2023.1.1)\n",
      "Requirement already satisfied: python-dotenv in /localdisk/aagalleg/demo_bc_test/disease-prediction/hls_env/lib/python3.9/site-packages (from -r requirements.txt (line 7)) (1.0.0)\n",
      "Requirement already satisfied: python-dateutil>=2.8.2 in /localdisk/aagalleg/demo_bc_test/disease-prediction/hls_env/lib/python3.9/site-packages (from pandas->-r requirements.txt (line 1)) (2.8.2)\n",
      "Requirement already satisfied: tzdata>=2022.1 in /localdisk/aagalleg/demo_bc_test/disease-prediction/hls_env/lib/python3.9/site-packages (from pandas->-r requirements.txt (line 1)) (2023.3)\n",
      "Requirement already satisfied: pytz>=2020.1 in /localdisk/aagalleg/demo_bc_test/disease-prediction/hls_env/lib/python3.9/site-packages (from pandas->-r requirements.txt (line 1)) (2023.3)\n",
      "Requirement already satisfied: numpy>=1.20.3 in /localdisk/aagalleg/demo_bc_test/disease-prediction/hls_env/lib/python3.9/site-packages (from pandas->-r requirements.txt (line 1)) (1.22.0)\n",
      "Requirement already satisfied: et-xmlfile in /localdisk/aagalleg/demo_bc_test/disease-prediction/hls_env/lib/python3.9/site-packages (from openpyxl->-r requirements.txt (line 4)) (1.1.0)\n",
      "Requirement already satisfied: scikit-learn>=0.22 in /localdisk/aagalleg/demo_bc_test/disease-prediction/hls_env/lib/python3.9/site-packages (from scikit-learn-intelex->-r requirements.txt (line 6)) (1.2.2)\n",
      "Requirement already satisfied: daal4py==2023.1.1 in /localdisk/aagalleg/demo_bc_test/disease-prediction/hls_env/lib/python3.9/site-packages (from scikit-learn-intelex->-r requirements.txt (line 6)) (2023.1.1)\n",
      "Requirement already satisfied: daal==2023.1.1 in /localdisk/aagalleg/demo_bc_test/disease-prediction/hls_env/lib/python3.9/site-packages (from daal4py==2023.1.1->scikit-learn-intelex->-r requirements.txt (line 6)) (2023.1.1)\n",
      "Requirement already satisfied: tbb==2021.* in /localdisk/aagalleg/demo_bc_test/disease-prediction/hls_env/lib/python3.9/site-packages (from daal==2023.1.1->daal4py==2023.1.1->scikit-learn-intelex->-r requirements.txt (line 6)) (2021.9.0)\n",
      "Requirement already satisfied: six>=1.5 in /localdisk/aagalleg/demo_bc_test/disease-prediction/hls_env/lib/python3.9/site-packages (from python-dateutil>=2.8.2->pandas->-r requirements.txt (line 1)) (1.16.0)\n",
      "Requirement already satisfied: scipy>=1.3.2 in /localdisk/aagalleg/demo_bc_test/disease-prediction/hls_env/lib/python3.9/site-packages (from scikit-learn>=0.22->scikit-learn-intelex->-r requirements.txt (line 6)) (1.10.1)\n",
      "Requirement already satisfied: threadpoolctl>=2.0.0 in /localdisk/aagalleg/demo_bc_test/disease-prediction/hls_env/lib/python3.9/site-packages (from scikit-learn>=0.22->scikit-learn-intelex->-r requirements.txt (line 6)) (3.1.0)\n",
      "Requirement already satisfied: joblib>=1.1.1 in /localdisk/aagalleg/demo_bc_test/disease-prediction/hls_env/lib/python3.9/site-packages (from scikit-learn>=0.22->scikit-learn-intelex->-r requirements.txt (line 6)) (1.2.0)\n"
     ]
    },
    {
     "name": "stderr",
     "output_type": "stream",
     "text": [
      "WARNING: You are using pip version 22.0.4; however, version 23.1.2 is available.\n",
      "You should consider upgrading via the '/localdisk/aagalleg/demo_bc_test/disease-prediction/hls_env/bin/python -m pip install --upgrade pip' command.\n"
     ]
    }
   ],
   "source": [
    "!git submodule update --init --recursive\n",
    "!pip install docx2txt openpyxl\n",
    "\n",
    "# Clone vision workflows\n",
    "!pip install -r ${PWD}/vision_wf/workflows/disease_prediction/requirements.txt\n",
    "\n",
    "# Clone hf-finetuning-inference-nlp-workflows\n",
    "!pip install -r ${PWD}/hf_nlp/workflows/hf_finetuning_and_inference_nlp/requirements.txt"
   ]
  },
  {
   "cell_type": "code",
   "execution_count": 21,
   "id": "9d5e9844-59cb-4adc-9028-c7808caab283",
   "metadata": {
    "scrolled": true
   },
   "outputs": [
    {
     "name": "stdout",
     "output_type": "stream",
     "text": [
      "## Purpose of the Model Zoo\n",
      "\n",
      "  - Demonstrate the AI workloads and deep learning models Intel has optimized and validated to run on Intel hardware\n",
      "  - Show how to efficiently execute, train, and deploy Intel-optimized models\n",
      "  - Make it easy to get started running Intel-optimized models on Intel hardware in the cloud or on bare metal\n",
      "\n",
      "***DISCLAIMER: These scripts are not intended for benchmarking Intel platforms.\n",
      "For any performance and/or benchmarking information on specific Intel platforms, visit https://www.intel.ai/blog.***\n",
      "\n",
      "Intel is committed to the respect of human rights and avoiding complicity in human rights abuses, a policy reflected at https://www.intel.com/content/www/us/en/policy/policy-human-rights.html. Accordingly, by accessing the Intel material on this platform you agree that you will not use the material in a product or application that causes or contributes to a violation of an internationally recognized human right.\n",
      "\n",
      "## License\n",
      "The Model Zoo for Intel® Architecture is licensed under https://github.com/IntelAI/models/blob/master/LICENSE.\n",
      "\n",
      "## Datasets\n",
      "To the extent that any public datasets are referenced by Intel or accessed using tools or code on this site those datasets are provided by the third party indicated as the data source. Intel does not create the data, or datasets, and does not warrant their accuracy or quality. By accessing the public dataset(s) you agree to the terms associated with those datasets and that your use complies with the applicable license.\n",
      "\n",
      "Please check the list of datasets used in Model Zoo for Intel® Architecture in https://github.com/IntelAI/models/datasets directory.\n",
      "\n",
      "Intel expressly disclaims the accuracy, adequacy, or completeness of any public datasets, and is not liable for any errors, omissions, or defects in the data, or for any reliance on the data. Intel is not liable for any liability or damages relating to your use of public datasets.\n"
     ]
    },
    {
     "name": "stdin",
     "output_type": "stream",
     "text": [
      "\n",
      "Do you agree to the terms and conditions? (y/n):\n",
      " y\n"
     ]
    },
    {
     "name": "stdout",
     "output_type": "stream",
     "text": [
      "Terms and conditions agreed\n",
      "\n",
      "File already exists in /localdisk/aagalleg/demo_bc_test/disease-prediction/intel-models/datasets/dataset_api/../../../data/Medical reports for cases .zip.\n",
      "Please delete it and try again!.\n",
      "\n",
      "\n",
      "File already exists in /localdisk/aagalleg/demo_bc_test/disease-prediction/intel-models/datasets/dataset_api/../../../data/Radiology manual annotations.xlsx.\n",
      "Please delete it and try again!.\n",
      "\n",
      "\n",
      "File already exists in /localdisk/aagalleg/demo_bc_test/disease-prediction/intel-models/datasets/dataset_api/../../../data/Radiology_hand_drawn_segmentations_v2.csv.\n",
      "Please delete it and try again!.\n",
      "\n"
     ]
    },
    {
     "name": "stderr",
     "output_type": "stream",
     "text": [
      "E: Could not open lock file /var/lib/dpkg/lock-frontend - open (13: Permission denied)\n",
      "E: Unable to acquire the dpkg frontend lock (/var/lib/dpkg/lock-frontend), are you root?\n"
     ]
    },
    {
     "name": "stdout",
     "output_type": "stream",
     "text": [
      "Requirement already satisfied: pandas in /localdisk/aagalleg/demo_bc_test/disease-prediction/hls_env/lib/python3.9/site-packages (from -r requirements.txt (line 1)) (2.0.1)\n",
      "Requirement already satisfied: tqdm in /localdisk/aagalleg/demo_bc_test/disease-prediction/hls_env/lib/python3.9/site-packages (from -r requirements.txt (line 2)) (4.65.0)\n",
      "Requirement already satisfied: docx2txt in /localdisk/aagalleg/demo_bc_test/disease-prediction/hls_env/lib/python3.9/site-packages (from -r requirements.txt (line 3)) (0.8)\n",
      "Requirement already satisfied: openpyxl in /localdisk/aagalleg/demo_bc_test/disease-prediction/hls_env/lib/python3.9/site-packages (from -r requirements.txt (line 4)) (3.1.2)\n",
      "Requirement already satisfied: pillow in /localdisk/aagalleg/demo_bc_test/disease-prediction/hls_env/lib/python3.9/site-packages (from -r requirements.txt (line 5)) (9.5.0)\n",
      "Requirement already satisfied: scikit-learn-intelex in /localdisk/aagalleg/demo_bc_test/disease-prediction/hls_env/lib/python3.9/site-packages (from -r requirements.txt (line 6)) (2023.1.1)\n",
      "Requirement already satisfied: python-dotenv in /localdisk/aagalleg/demo_bc_test/disease-prediction/hls_env/lib/python3.9/site-packages (from -r requirements.txt (line 7)) (1.0.0)\n",
      "----- Starting the data preprocessing -----\n",
      "Requirement already satisfied: numpy>=1.20.3 in /localdisk/aagalleg/demo_bc_test/disease-prediction/hls_env/lib/python3.9/site-packages (from pandas->-r requirements.txt (line 1)) (1.22.0)\n",
      "Requirement already satisfied: tzdata>=2022.1 in /localdisk/aagalleg/demo_bc_test/disease-prediction/hls_env/lib/python3.9/site-packages (from pandas->-r requirements.txt (line 1)) (2023.3)\n",
      "Requirement already satisfied: python-dateutil>=2.8.2 in /localdisk/aagalleg/demo_bc_test/disease-prediction/hls_env/lib/python3.9/site-packages (from pandas->-r requirements.txt (line 1)) (2.8.2)\n",
      "Requirement already satisfied: pytz>=2020.1 in /localdisk/aagalleg/demo_bc_test/disease-prediction/hls_env/lib/python3.9/site-packages (from pandas->-r requirements.txt (line 1)) (2023.3)\n",
      "Requirement already satisfied: et-xmlfile in /localdisk/aagalleg/demo_bc_test/disease-prediction/hls_env/lib/python3.9/site-packages (from openpyxl->-r requirements.txt (line 4)) (1.1.0)\n",
      "Requirement already satisfied: scikit-learn>=0.22 in /localdisk/aagalleg/demo_bc_test/disease-prediction/hls_env/lib/python3.9/site-packages (from scikit-learn-intelex->-r requirements.txt (line 6)) (1.2.2)\n",
      "Requirement already satisfied: daal4py==2023.1.1 in /localdisk/aagalleg/demo_bc_test/disease-prediction/hls_env/lib/python3.9/site-packages (from scikit-learn-intelex->-r requirements.txt (line 6)) (2023.1.1)\n",
      "Requirement already satisfied: daal==2023.1.1 in /localdisk/aagalleg/demo_bc_test/disease-prediction/hls_env/lib/python3.9/site-packages (from daal4py==2023.1.1->scikit-learn-intelex->-r requirements.txt (line 6)) (2023.1.1)\n",
      "Requirement already satisfied: tbb==2021.* in /localdisk/aagalleg/demo_bc_test/disease-prediction/hls_env/lib/python3.9/site-packages (from daal==2023.1.1->daal4py==2023.1.1->scikit-learn-intelex->-r requirements.txt (line 6)) (2021.9.0)\n",
      "Requirement already satisfied: six>=1.5 in /localdisk/aagalleg/demo_bc_test/disease-prediction/hls_env/lib/python3.9/site-packages (from python-dateutil>=2.8.2->pandas->-r requirements.txt (line 1)) (1.16.0)\n",
      "Requirement already satisfied: threadpoolctl>=2.0.0 in /localdisk/aagalleg/demo_bc_test/disease-prediction/hls_env/lib/python3.9/site-packages (from scikit-learn>=0.22->scikit-learn-intelex->-r requirements.txt (line 6)) (3.1.0)\n",
      "Requirement already satisfied: scipy>=1.3.2 in /localdisk/aagalleg/demo_bc_test/disease-prediction/hls_env/lib/python3.9/site-packages (from scikit-learn>=0.22->scikit-learn-intelex->-r requirements.txt (line 6)) (1.10.1)\n",
      "Requirement already satisfied: joblib>=1.1.1 in /localdisk/aagalleg/demo_bc_test/disease-prediction/hls_env/lib/python3.9/site-packages (from scikit-learn>=0.22->scikit-learn-intelex->-r requirements.txt (line 6)) (1.2.0)\n"
     ]
    },
    {
     "name": "stderr",
     "output_type": "stream",
     "text": [
      "WARNING: You are using pip version 22.0.4; however, version 23.1.2 is available.\n",
      "You should consider upgrading via the '/localdisk/aagalleg/demo_bc_test/disease-prediction/hls_env/bin/python -m pip install --upgrade pip' command.\n"
     ]
    },
    {
     "name": "stdout",
     "output_type": "stream",
     "text": [
      "----- file is saved here : /localdisk/aagalleg/demo_bc_test/disease-prediction/intel-models/datasets/dataset_api/../../../data/annotation/annotation.csv\n",
      "Intel(R) Extension for Scikit-learn* enabled (https://github.com/intel/scikit-learn-intelex)\n",
      "Create folders for classified images\n",
      "/localdisk/aagalleg/demo_bc_test/disease-prediction/intel-models/datasets/dataset_api/../../../data/\n",
      "----- Classifying the images for data preprocessing -----\n",
      "Classify Low energy images\n",
      "Classify Subtracted energy images\n",
      "/localdisk/aagalleg/demo_bc_test/disease-prediction/intel-models/datasets/dataset_api/../../../data/segmented_images/Normal/\n",
      "Creating segmented images for \"Normal\" cases .........\n",
      "Creating segmented images for \"malignant\" cases ..........\n",
      "Creating segmented images for \"Benign\" cases ........\n"
     ]
    }
   ],
   "source": [
    "#Preprocessing\n",
    "#Execute this cell and scroll down. When reached the terms and conditions statement \n",
    "#the execution will pause until you agree (press y and Enter) or dissagree (press n and Enter).\n",
    "\n",
    "import os\n",
    "# Clone dataset_api\n",
    "command = 'cd ${PWD}/intel-models/datasets/dataset_api/ && bash setup.sh'\n",
    "os.popen(command, 'w').write(input(\"\\nDo you agree to the terms and conditions? (y/n):\\n\"))\n",
    "\n",
    "# run preprocessing steps for the dataset\n",
    "!cd ${PWD}/intel-models/datasets/dataset_api/ && python dataset.py -n brca --download --preprocess -d ${PWD}/../../../data/"
   ]
  },
  {
   "cell_type": "markdown",
   "id": "447360c8-27d3-4d93-9594-1f3edebc70cd",
   "metadata": {},
   "source": [
    "Once preprocessing has ended, you should have the following files and directories inside the `data/` directory:\n",
    "```\n",
    "data/ \n",
    "    |\n",
    "    └──annotation/\n",
    "        |── annotation.csv\n",
    "        |── testing_data.csv\n",
    "        └── training_data.csv\n",
    "    └──CDD-CESM/\n",
    "        |── Low energy images of CDD-CESM/\n",
    "        └── Subtracted images of CDD-CESM/\n",
    "    └──Medical reports for cases/\n",
    "    └──segmented_images/\n",
    "        |── Benign/\n",
    "        |── Malignant/\n",
    "        └── Normal/\n",
    "    └──train_test_split_images\n",
    "        |── test/\n",
    "        └── train/\n",
    "    └──vision_images\n",
    "        |── Benign/\n",
    "        |── Malignant/\n",
    "        └── Normal/\n",
    "    └──Radiology manual annotations.xlsx\n",
    "    └──Radiology_hand_drawn_segmentations_v2.csv\n",
    "    └──README.md\n",
    "```"
   ]
  },
  {
   "attachments": {},
   "cell_type": "markdown",
   "id": "ca24f317-c892-4db2-99a9-79fa5e9743d5",
   "metadata": {},
   "source": [
    "### 2. Model Building Process\n",
    "\n",
    "To train the multi-model disease prediction, utilize the 'breast_cancer_prediction.py' script along with the arguments outlined in the 'disease_prediction_baremetal.yaml' configuration file, which has the following structure:\n",
    "\n",
    "```\n",
    "disease_prediction_baremetal.yaml\n",
    "    \n",
    "    |\n",
    "    └──overwrite_training_testing_ids\n",
    "    └──output_dir\n",
    "    └──test_size\n",
    "    └──write\n",
    "    └──nlp\n",
    "        |── finetune\n",
    "        |── inference\n",
    "        └── other parameters for HF fine-tune and inference optimization workflow\n",
    "    └──vision\n",
    "        |── finetune\n",
    "        |── inference\n",
    "        └── other parameters for HF fine-tune and inference optimization workflow\n",
    "```\n",
    "\n",
    "Descriptions of the previous parameters are as follow:\n",
    "\n",
    "- overwrite_training_testing_ids: uses previously created train and test data sets\n",
    "- output_dir: specifies the location of the output model and inference results\n",
    "- test_size: sets the percentage of the test data set\n",
    "- write: a container parameter that is set to false for bare metal\n",
    "- nlp:\n",
    "  - finetune: runs nlp fine-tuning\n",
    "  - inference: runs nlp inference\n",
    "  - additional parameters for the HF fine-tune and inference optimization workflow (more information available [here](https://github.com/intel/intel-extension-for-transformers/tree/main/workflows/hf_finetuning_and_inference_nlp/config))\n",
    "\n",
    "- vision:\n",
    "  - finetune: runs vision fine-tuning\n",
    "  - inference: runs vision inference\n",
    "  - additional parameters for the Vision: Transfer Learning Toolkit based on TLT workflow (more information available [here](https://github.com/IntelAI/transfer-learning/tree/f2e83f1614901d44d0fdd66f983de50551691676/workflows/disease_prediction))\n",
    "\n",
    "\n",
    "To solely perform the fine-tuning process, set the '--inference' flag to 'False' and execute the following command:"
   ]
  },
  {
   "cell_type": "code",
   "execution_count": 2,
   "id": "d0aeb7f6-c6b0-44f2-b674-e4cd753183e3",
   "metadata": {
    "scrolled": true
   },
   "outputs": [],
   "source": [
    "!python src/breast_cancer_prediction.py --config_file configs/disease_prediction_baremetal.yaml --finetune=True --inference=False"
   ]
  },
  {
   "attachments": {},
   "cell_type": "markdown",
   "id": "a6d487fe-2931-45d8-8f07-a7cc20175a68",
   "metadata": {},
   "source": [
    "### 3. Running Inference\n",
    "After the models are trained and saved using the script from step 2, load the NLP and vision models using the inference option. This applies a weighted ensemble method to generate a final prediction. To only run inference, set the 'inference' parameter to true, the parameter 'finetune' to false and run the command provided in step 2.\n",
    "\n",
    "> Alternatively, you can combine the training and inference processes into one execution by setting both the 'finetune' and 'inference' parameters to true and running the command provided in step 2."
   ]
  },
  {
   "cell_type": "markdown",
   "id": "5322d32e-372d-46fd-b2a7-56083969a348",
   "metadata": {},
   "source": [
    "<a id=\"expected-output\"></a> \n",
    "## Expected Output\n",
    "A successful execution of inference returns the confusion matrix of the sub-models and ensembled model, as shown in these example results: \n",
    "```\n",
    "------ Confusion Matrix for Vision model ------\n",
    "           Benign  Malignant  Normal  Precision\n",
    "Benign       18.0     11.000   1.000      0.486\n",
    "Malignant     5.0     32.000   0.000      0.615\n",
    "Normal       14.0      9.000  25.000      0.962\n",
    "Recall        0.6      0.865   0.521      0.652\n",
    "\n",
    "------ Confusion Matrix for NLP model ---------\n",
    "           Benign  Malignant  Normal  Precision\n",
    "Benign     25.000      4.000     1.0      0.893\n",
    "Malignant   3.000     34.000     0.0      0.895\n",
    "Normal      0.000      0.000    48.0      0.980\n",
    "Recall      0.833      0.919     1.0      0.930\n",
    "\n",
    "------ Confusion Matrix for Ensemble --------\n",
    "           Benign  Malignant  Normal  Precision\n",
    "Benign     26.000      4.000     0.0      0.897\n",
    "Malignant   3.000     34.000     0.0      0.895\n",
    "Normal      0.000      0.000    48.0      1.000\n",
    "Recall      0.867      0.919     1.0      0.939\n",
    "\n",
    "```"
   ]
  },
  {
   "cell_type": "markdown",
   "id": "40238669-92d9-49db-9fe8-9045700099fe",
   "metadata": {},
   "source": [
    "<a id=\"result-visualization\"></a> \n",
    "## Result Visualization\n",
    "By utilizing the displayed widget, users can access a comprehensive overview that includes radiologists' annotation notes, corresponding subtracted CESM images, and ensemble predictions. Scroll down to see the selected results."
   ]
  },
  {
   "cell_type": "code",
   "execution_count": 23,
   "id": "85d43a36-e217-4a0d-8e0c-49a41acd44a8",
   "metadata": {},
   "outputs": [
    {
     "data": {
      "application/vnd.jupyter.widget-view+json": {
       "model_id": "5a12aa9eca224af984215470774560ae",
       "version_major": 2,
       "version_minor": 0
      },
      "text/plain": [
       "GridspecLayout(children=(Select(description='Patient ID:', layout=Layout(grid_area='widget001'), options=('Sel…"
      ]
     },
     "metadata": {},
     "output_type": "display_data"
    },
    {
     "data": {
      "text/plain": [
       "<module 'widget_manager' from '/localdisk/aagalleg/demo_bc_test/disease-prediction/widget_manager.py'>"
      ]
     },
     "execution_count": 23,
     "metadata": {},
     "output_type": "execute_result"
    }
   ],
   "source": [
    "import importlib\n",
    "import widget_manager\n",
    "importlib.reload(widget_manager)"
   ]
  }
 ],
 "metadata": {
  "kernelspec": {
   "display_name": "Python 3 (ipykernel)",
   "language": "python",
   "name": "python3"
  },
  "language_info": {
   "codemirror_mode": {
    "name": "ipython",
    "version": 3
   },
   "file_extension": ".py",
   "mimetype": "text/x-python",
   "name": "python",
   "nbconvert_exporter": "python",
   "pygments_lexer": "ipython3",
   "version": "3.9.12"
  }
 },
 "nbformat": 4,
 "nbformat_minor": 5
}
