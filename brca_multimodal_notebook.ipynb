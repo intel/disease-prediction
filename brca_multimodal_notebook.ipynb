{
 "cells": [
  {
   "attachments": {},
   "cell_type": "markdown",
   "id": "b9ea5f1f-3f56-4d50-af00-df54361a5196",
   "metadata": {},
   "source": [
    "# Multi-Modal Disease Prediction\n",
    "Many reference kits  in the bio-medical domain focus on a single-model and single-modal solution. Exclusive reliance on a single method has some limitations, such as impairing the design of robust and accurate classifiers for complex datasets. To overcome these limitations, we provide this multi-modal disease prediction reference kit.\n",
    "\n",
    "Multi-modal disease prediction is an Intel  optimized, end-to-end reference kit for fine-tuning and inference. This reference kit implements a multi-model and multi-modal solution that will help to predict diagnosis by using categorized contrast enhanced mammography data and radiologists’ notes.\n",
    " \n",
    "\n",
    "## **Table of Contents**\n",
    "- [Overview](#overview)\n",
    "- [Validated Hardware Details](#validated-hardware-details)\n",
    "- [Software Requirements](#software-requirements)\n",
    "- [How it Works?](#how-it-works)\n",
    "    - [Architecture](#architecture)\n",
    "    - [Pretraining of the ClinicalBERT Model](#pretraining-of-the-clinicalbert-model)\n",
    "- [Get Started](#get-started)\n",
    "- [Run Using Bare Metal](#run-using-bare-metal) \n",
    "- [Expected Output](#expected-output)\n",
    "- [Summary and Next Steps](#summary-and-next-steps)\n",
    "- [Learn More](#learn-more)\n",
    "- [Support](#support)\n",
    "\n",
    "<a id=\"overview\"></a> \n",
    "## Overview\n",
    "This reference kit demonstrates one possible reference implementation of a multi-model and multi-modal solution. While the vision workflow aims to train an image classifier that takes in contrast-enhanced spectral mammography (CESM) images, the natural language processing (NLP) workflow aims to train a document classifier that takes in annotation notes about a patient’s symptoms. Each pipeline creates prediction for the diagnosis of breast cancer. In the end, weighted ensemble method is used to create final prediction.\n",
    "\n",
    "The goal is to minimize an expert’s involvement in categorizing samples as normal, benign, or malignant, by developing and optimizing a decision support system that automatically categorizes the CESM with the help of radiologist notes.\n",
    "\n",
    "<a id=\"validated-hardware-details\"></a> \n",
    "## Validated Hardware Details\n",
    "There are workflow-specific hardware and software setup requirements depending on how the workflow is run. Bare metal development system and Docker image running locally have the same system requirements. \n",
    "\n",
    "| Recommended Hardware         | Precision  |\n",
    "| ---------------------------- | ---------- |\n",
    "| Intel® 4th Gen Xeon® Scalable Performance processors| FP32, BF16 |\n",
    "| Intel® 1st, 2nd, 3rd, and 4th Gen Xeon® Scalable Performance processors| FP32 |\n",
    "\n",
    "To execute the reference solution presented here, please use CPU for fine tuning. \n",
    "\n",
    "<a id=\"software-requirements\"></a> \n",
    "## Software Requirements \n",
    "Linux OS (Ubuntu 22.04) is used in this reference solution. Make sure the following dependencies are installed.\n",
    "\n",
    "1. `sudo apt update`\n",
    "2. `sudo apt install -y build-essential gcc git libgl1-mesa-glx libglib2.0-0 python3-dev`\n",
    "3. Python3.9, Pip/Conda and python3.9-venv\n"
   ]
  },
  {
   "cell_type": "code",
   "execution_count": null,
   "id": "55a1a1e8-96af-4970-aaa2-b116bde46497",
   "metadata": {},
   "outputs": [],
   "source": [
    "# !apt update \n",
    "# !sudo apt install -y build-essential gcc git libgl1-mesa-glx libglib2.0-0 python3-dev"
   ]
  },
  {
   "attachments": {},
   "cell_type": "markdown",
   "id": "9e233e40-cb7f-4200-997c-ef659f679972",
   "metadata": {},
   "source": [
    "<a id=\"how-it-works\"></a> \n",
    "## How It Works?\n",
    "\n",
    "<a id=\"architecture\"></a> \n",
    "### Architecture\n",
    "![Use_case_flow](assets/e2e_flow_HLS_Disease_Prediction.png)\n",
    "*Figure-1: Architecture of the reference kit* \n",
    "\n",
    "- Uses real-world CESM breast cancer datasets with “multi-modal and multi-model” approaches.\n",
    "- Two domain toolkits (Intel® Transfer Learning Toolkit and Intel® Extension for Transformers), Intel® Neural Compressor and other libs/tools and uses Hugging Face model repo and APIs for [ResNet-50](https://huggingface.co/microsoft/resnet-50) and [ClinicalBert](https://huggingface.co/emilyalsentzer/Bio_ClinicalBERT) models. \n",
    "- The NLP reference Implementation component uses [HF Fine-tuning and Inference Optimization workload](https://github.com/intel/intel-extension-for-transformers/tree/main/workflows/hf_finetuning_and_inference_nlp), which is optimized for document classification. This NLP workload employs Intel® Neural Compressor and other libraries/tools and utilizes Hugging Face model repository and APIs for ClinicalBert models. The ClinicalBert model, which is pretrained with a Masked-Language-Modeling task on a large corpus of English language from MIMIC-III data, is fine-tuned with the CESM breast cancer annotation dataset to generate a new BERT model.\n",
    "- The Vision reference Implementation component uses [TLT-based vision workload](https://github.com/IntelAI/transfer-learning), which is optimized for image fine-tuning and inference. This workload utilizes Intel® Transfer Learning Tool and tfhub's ResNet-50 model to fine-tune a new convolutional neural network model with subtracted CESM image dataset. The images are preprocessed by using domain expert-defined segmented regions to reduce redundancies during training.\n",
    "- Predict diagnosis by using categorized contrast enhanced mammography images and radiologists’ notes separately and weighted ensemble method applied to results of sub-models to create the final prediction.\n",
    "\n",
    "<a id=\"get-started\"></a> \n",
    "## Get Started\n",
    "\n",
    "### Download the Reference Kit Repository\n",
    "Create a working directory for the reference kit and clone the [Breast Cancer Prediction Reference Kit](https://github.com/intel/disease-prediction) repository into your working directory.\n",
    "```\n",
    "git clone https://github.com/intel/disease-prediction.git brca_multimodal\n",
    "cd brca_multimodal\n",
    "```"
   ]
  },
  {
   "attachments": {},
   "cell_type": "markdown",
   "id": "7d9a697e-db85-4995-8c45-52dd94d9ce46",
   "metadata": {},
   "source": [
    "### DataSet\n",
    "The dataset is a collection of 2,006 high-resolution contrast-enhanced spectral mammography (CESM) images (1003 low energy images and 1003 subtracted CESM images) with annotations of 326 female patients. See Figure-1. Each patient has 8 images, 4 representing each side with two views (Top Down looking and Angled Top View) consisting of low energy and subtracted CESM images. Medical reports, written by radiologists, are provided for each case along with manual segmentation annotation for the abnormal findings in each image. As a preprocessing step, we segment the images based on the manual segmentation to get the region of interest and group annotation notes based on the subject and breast side. \n",
    "\n",
    "  ![CESM Images](assets/cesm_and_annotation.png)\n",
    "\n",
    "*Figure-2: Samples of low energy and subtracted CESM images and Medical reports, written by radiologists from the Categorized contrast enhanced mammography dataset. [(Khaled, 2022)](https://www.nature.com/articles/s41597-022-01238-0)*\n",
    "\n",
    "For more details of the dataset, visit the wikipage of the [CESM](https://wiki.cancerimagingarchive.net/pages/viewpage.action?pageId=109379611#109379611bcab02c187174a288dbcbf95d26179e8) and read [Categorized contrast enhanced mammography dataset for diagnostic and artificial intelligence research](https://www.nature.com/articles/s41597-022-01238-0).\n",
    "\n",
    "#### Setting Up the Data\n",
    "Use the links below to download the image datasets.\n",
    "\n",
    "- [High-resolution Contrast-enhanced spectral mammography (CESM) images](https://faspex.cancerimagingarchive.net/aspera/faspex/external_deliveries/260?passcode=5335d2514638afdaf03237780dcdfec29edf4238#)\n",
    "\n",
    "Copy all the downloaded files into the *data* directory.\n",
    "\n",
    "**Note:** See this dataset's applicable license for terms and conditions. Intel Corporation does not own the rights to this dataset and does not confer any rights to it.\n",
    "\n",
    "## Ways to run this reference use case\n",
    "This reference kit offers three options for running the fine-tuning and inference processes:\n",
    "\n",
    "- Docker\n",
    "- Argo Workflows on K8s Using Helm\n",
    "- Bare Metal\n",
    "\n",
    "Details about Bare Metal method can be found below."
   ]
  },
  {
   "attachments": {},
   "cell_type": "markdown",
   "id": "859bce34-5cf5-4df7-8b66-48dc56b47473",
   "metadata": {},
   "source": [
    "<a id=\"run-using-bare-metal\"></a> \n",
    "# Run Using Bare Metal"
   ]
  },
  {
   "attachments": {},
   "cell_type": "markdown",
   "id": "ab0e33d4-8990-446b-8617-61049d5a9003",
   "metadata": {},
   "source": [
    "### 1. Create Conda Environment \n",
    "\n",
    "Users are encouraged to use python virtual environments for consistent package management\n",
    "\n",
    "Using virtualenv:\n",
    "\n",
    "```\n",
    "python3.9 -m venv hls_env\n",
    "source hls_env/bin/activate\n",
    "```"
   ]
  },
  {
   "cell_type": "code",
   "execution_count": null,
   "id": "bb4d5ce1",
   "metadata": {},
   "outputs": [],
   "source": [
    "!python3.9 -m venv hls_env\n",
    "!hls_env/bin/python3 -m pip install ipykernel\n",
    "!hls_env/bin/python3 -m ipykernel install --user --name hls_env"
   ]
  },
  {
   "cell_type": "code",
   "execution_count": null,
   "id": "097f09ba",
   "metadata": {},
   "outputs": [],
   "source": [
    "import IPython\n",
    "IPython.Application.instance().kernel.do_shutdown(True) #automatically restarts kernel"
   ]
  },
  {
   "attachments": {},
   "cell_type": "markdown",
   "id": "978c9625",
   "metadata": {},
   "source": [
    "**NOTE:** Restart kernel and wait some seconds, and change kernel to hls_env. "
   ]
  },
  {
   "attachments": {},
   "cell_type": "markdown",
   "id": "9b445eb4",
   "metadata": {},
   "source": [
    "Or conda: If you don't already have conda installed, see the [Conda Linux installation instructions](https://docs.conda.io/projects/conda/en/stable/user-guide/install/linux.html)."
   ]
  },
  {
   "cell_type": "code",
   "execution_count": null,
   "id": "143e68bd-2dc4-40ce-856d-d821f366dfa2",
   "metadata": {},
   "outputs": [],
   "source": [
    "conda create --name hls_env python=3.9 ipykernel -y -q"
   ]
  },
  {
   "cell_type": "code",
   "execution_count": null,
   "id": "89f59e7e-233f-4fab-ba31-4f140ba30a74",
   "metadata": {},
   "outputs": [],
   "source": [
    "import IPython\n",
    "IPython.Application.instance().kernel.do_shutdown(True) #automatically restarts kernel"
   ]
  },
  {
   "attachments": {},
   "cell_type": "markdown",
   "id": "d6d53da4-e598-4850-bef2-59acd36022e4",
   "metadata": {},
   "source": [
    "**NOTE:** Restart kernel and wait some seconds, and change kernel to conda env:hls_env. \n"
   ]
  },
  {
   "cell_type": "code",
   "execution_count": null,
   "id": "5ffe3d63-5f51-4f1f-aabf-8c3e05abbcd4",
   "metadata": {},
   "outputs": [],
   "source": [
    "# Verify hls_env environment is active\n",
    "!conda env list"
   ]
  },
  {
   "attachments": {},
   "cell_type": "markdown",
   "id": "c8e5c0fc-f0eb-4a16-ba25-c500ecef10c8",
   "metadata": {},
   "source": [
    "### 2. Install Required Workflows and Preprocess the Data\n",
    "\n",
    "> Make sure [High-resolution Contrast-enhanced spectral mammography (CESM) images](https://faspex.cancerimagingarchive.net/aspera/faspex/external_deliveries/260?passcode=5335d2514638afdaf03237780dcdfec29edf4238#) are downloaded and copied into the *data* directory.\n",
    "\n",
    "This step involves the installation of the following components:\n",
    "\n",
    "- HF Fine-tune & Inference Optimization workflow\n",
    "- Transfer Learning based on TLT workflow\n",
    "- Model Zoo for Intel®\n",
    "\n",
    "Upon successful installation, the data is preprocessed.  \n",
    "\n",
    "```\n",
    "bash setup_workflows.sh  # run on terminal with virtual environment activated\n",
    "```\n"
   ]
  },
  {
   "cell_type": "code",
   "execution_count": null,
   "id": "cf351f03-0f23-4033-9cd8-f3c1453ea9e2",
   "metadata": {},
   "outputs": [],
   "source": [
    "import IPython\n",
    "IPython.Application.instance().kernel.do_shutdown(True) #automatically restarts kernel"
   ]
  },
  {
   "attachments": {},
   "cell_type": "markdown",
   "id": "ca24f317-c892-4db2-99a9-79fa5e9743d5",
   "metadata": {},
   "source": [
    "### 3. Model Building Process\n",
    "\n",
    "To train the multi-model disease prediction, utilize the 'breast_cancer_prediction.py' script along with the arguments outlined in the 'disease_prediction_baremetal.yaml' configuration file, which has the following structure:\n",
    "\n",
    "```\n",
    "disease_prediction_baremetal.yaml\n",
    "    \n",
    "    |\n",
    "    └──overwrite_training_testing_ids\n",
    "    └──output_dir\n",
    "    └──test_size\n",
    "    └──write\n",
    "    └──nlp\n",
    "        |── finetune\n",
    "        |── inference\n",
    "        └── other parameters for HF fine-tune and inference optimization workflow\n",
    "    └──vision\n",
    "        |── finetune\n",
    "        |── inference\n",
    "        └── other parameters for HF fine-tune and inference optimization workflow\n",
    "```\n",
    "\n",
    "The 'disease_prediction_baremetal.yaml' file includes the following parameters:\n",
    "\n",
    "- overwrite_training_testing_ids: uses previously created train and test data sets\n",
    "- output_dir: specifies the location of the output model and inference results\n",
    "- test_size: sets the percentage of the test data set\n",
    "- write: a container parameter that is set to false for bare metal\n",
    "- nlp:\n",
    "  - finetune: runs nlp fine-tuning\n",
    "  - inference: runs nlp inference\n",
    "  - additional parameters for the HF fine-tune and inference optimization workflow (more information available [here](https://github.com/intel/intel-extension-for-transformers/tree/main/workflows/hf_finetuning_and_inference_nlp/config))\n",
    "\n",
    "- vision:\n",
    "  - finetune: runs vision fine-tuning\n",
    "  - inference: runs vision inference\n",
    "  - additional parameters for the Vision: Transfer Learning Toolkit based on TLT workflow (more information available [here](https://github.com/IntelAI/transfer-learning/tree/f2e83f1614901d44d0fdd66f983de50551691676/workflows/disease_prediction))\n",
    "\n",
    "\n",
    "To solely perform the fine-tuning process, set the 'finetune' parameter to true in the 'disease_prediction.yaml' file and execute the following command:"
   ]
  },
  {
   "cell_type": "code",
   "execution_count": null,
   "id": "d0aeb7f6-c6b0-44f2-b674-e4cd753183e3",
   "metadata": {},
   "outputs": [],
   "source": [
    "!python src/breast_cancer_prediction.py --config_file configs/disease_prediction_baremetal.yaml"
   ]
  },
  {
   "attachments": {},
   "cell_type": "markdown",
   "id": "f9680111-b9d7-461c-83bb-453af4845e8d",
   "metadata": {},
   "source": [
    "### 4. Running Inference\n",
    "After the models are trained and saved using the script from step 4, load the NLP and vision models using the inference option. This applies a weighted ensemble method to generate a final prediction. To only run inference, set the 'inference' parameter to true in the 'disease_prediction.yaml' file and run the command provided in step 4.\n",
    "\n",
    "> Alternatively, you can combine the training and inference processes into one execution by setting both the 'finetune' and 'inference' parameters to true in the 'disease_prediction.yaml' file and running the command provided in step 4.\n",
    "\n",
    "## Expected Output\n",
    "A successful execution of inference returns the confusion matrix of the sub-models and ensembled model, as shown in these example results: \n",
    "```\n",
    "------ Confusion Matrix for Vision model ------\n",
    "           Benign  Malignant  Normal  Precision\n",
    "Benign       18.0     11.000   1.000      0.486\n",
    "Malignant     5.0     32.000   0.000      0.615\n",
    "Normal       14.0      9.000  25.000      0.962\n",
    "Recall        0.6      0.865   0.521      0.652\n",
    "\n",
    "------ Confusion Matrix for NLP model ---------\n",
    "           Benign  Malignant  Normal  Precision\n",
    "Benign     25.000      4.000     1.0      0.893\n",
    "Malignant   3.000     34.000     0.0      0.895\n",
    "Normal      0.000      0.000    48.0      0.980\n",
    "Recall      0.833      0.919     1.0      0.930\n",
    "\n",
    "------ Confusion Matrix for Ensemble --------\n",
    "           Benign  Malignant  Normal  Precision\n",
    "Benign     26.000      4.000     0.0      0.897\n",
    "Malignant   3.000     34.000     0.0      0.895\n",
    "Normal      0.000      0.000    48.0      1.000\n",
    "Recall      0.867      0.919     1.0      0.939\n",
    "\n",
    "```\n",
    "\n",
    "## Summary and Next Steps\n",
    "This Github repo describes a reference kit for multi-modal disease prediction in the biomedical domain. The kit provides an end-to-end solution for fine-tuning and inference using categorized contrast-enhanced mammography data and radiologists' notes to predict breast cancer diagnosis. The reference kit includes a vision workload that trains an image classifier using CESM images, and a NLP pipeline that trains a document classifier using annotation notes about a patient's symptoms. Both pipelines create predictions for the diagnosis of breast cancer, which are then combined using a weighted ensemble method to create a final prediction. The ultimate goal of the reference kit is to develop and optimize a decision support system that can automatically categorize samples as normal, benign, or malignant, thereby reducing the need for expert involvement.\n",
    "\n",
    "As a future work, we will use a postprocessing method that will ensemble the different domain knowledge at feature level and fine-tune a model that would increase the accuracy of the prediction, speed up the end-to-end execution time for fine-tuning and inference, and reduce the cost of computation.  \n",
    "\n",
    "### How to customize this use case\n",
    "Tunable configurations and parameters are exposed using yaml config files allowing users to change model training hyperparameters, datatypes, paths, and dataset settings without having to modify or search through the code.\n",
    "\n",
    "#### Adopt to your dataset\n",
    "To deploy this reference use case on a different or customized dataset, you can easily modify the disease_prediction_baremetal.yaml file. For instance, if you have a new text dataset, simply update the paths of finetune_input and inference_input and adjust the dataset features in the disease_prediction_baremetal.yaml file, as demonstrated below.\n",
    "\n",
    "```\n",
    "|\n",
    "└──nlp # HF Fine-tuning and Inference Optimization workload\n",
    "    |── args\n",
    "        |──local_dataset\n",
    "            |── finetune_input: '../data/annotation/trainig.csv'\n",
    "            |── inference_input: '../data/annotation/testing.csv'\n",
    "            |── features\n",
    "              |── class_label: \"label\"  # Label column name.\n",
    "              |── data_column: \"symptoms\" # Data column name\n",
    "              |── id: \"Patient_ID\" # Id column name\n",
    "            |── label_list: [\"Benign\", \"Malignant\", \"Normal\"] # List of class labels\n",
    "```    \n",
    "\n",
    "#### Adopt to your model\n",
    "\n",
    "To implement this reference use case on a different or customized pre-training model, modifications to the disease_prediction_baremetal.yaml file are straightforward. For instance, to use an alternate model, one can update the path of the model by modifying the 'model_name_or_path' and 'tokenizer_name' fields in the disease_prediction_baremetal.yaml file structure. The following example illustrates this process:\n",
    "\n",
    "```\n",
    "|\n",
    "└──nlp # HF Fine-tuning and Inference Optimization workload\n",
    "    |── args\n",
    "        |── model_name_or_path: \"emilyalsentzer/Bio_ClinicalBERT\" # Path to pretrained model\n",
    "        |── tokenizer_name: \"emilyalsentzer/Bio_ClinicalBERT\" # Pretrained tokenizer name\n",
    "```\n",
    "\n",
    "\n",
    "## Learn More\n",
    "For more information or to read about other relevant workflow examples, see these guides and software resources:\n",
    "- [Intel® AI Analytics Toolkit (AI Kit)](https://www.intel.com/content/www/us/en/developer/tools/oneapi/ai-analytics-toolkit.html)\n",
    "- [Intel® Neural Compressor](https://github.com/intel/neural-compressor)\n",
    "- [Intel® Extension for PyTorch](https://intel.github.io/intel-extension-for-pytorch/)\n",
    "- [Intel® Transfer Learning Tool](https://github.com/IntelAI/models/tree/master/docs/notebooks/transfer_learning)\n",
    "- [Intel® Extension for Transformers](https://github.com/intel/intel-extension-for-transformers)\n",
    "\n",
    "## Support\n",
    "The end-to-end multi-model disease prediction tea tracks both bugs and enhancement requests using [disease prediction GitHub repo](https://github.com/intel/disease-prediction). We welcome input, however, before filing a request, search the GitHub issue database. \n"
   ]
  }
 ],
 "metadata": {
  "kernelspec": {
   "display_name": "Python 3 (ipykernel)",
   "language": "python",
   "name": "python3"
  },
  "language_info": {
   "codemirror_mode": {
    "name": "ipython",
    "version": 3
   },
   "file_extension": ".py",
   "mimetype": "text/x-python",
   "name": "python",
   "nbconvert_exporter": "python",
   "pygments_lexer": "ipython3",
   "version": "3.11.3"
  }
 },
 "nbformat": 4,
 "nbformat_minor": 5
}
